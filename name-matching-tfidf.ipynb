{
 "cells": [
  {
   "cell_type": "markdown",
   "metadata": {},
   "source": [
    "## Name Matching\n",
    "\n"
   ]
  },
  {
   "cell_type": "code",
   "execution_count": 105,
   "metadata": {},
   "outputs": [
    {
     "name": "stderr",
     "output_type": "stream",
     "text": [
      "/var/folders/tn/k31185892wl6cj_lpfjjr2wc0000gn/T/ipykernel_19556/4025729238.py:11: FutureWarning: Passing a negative integer is deprecated in version 1.0 and will not be supported in future version. Instead, use None to not limit the column width.\n",
      "  pd.set_option('display.max_colwidth', -1)\n"
     ]
    }
   ],
   "source": [
    "#  Importing libraries and module and some setting for notebook\n",
    "\n",
    "import pandas as pd \n",
    "import re\n",
    "from sklearn.feature_extraction.text import TfidfVectorizer\n",
    "import numpy as np\n",
    "from scipy.sparse import csr_matrix\n",
    "import sparse_dot_topn.sparse_dot_topn as ct  #Cosine Similarity\n",
    "import time\n",
    "import sys\n",
    "pd.set_option('display.max_colwidth', -1)\n",
    "\n",
    "dataset_path = '/Users/friday/Library/CloudStorage/OneDrive-Personal/Documents/MS/UMCP/RA/Assignment-1_Matching-_two_dbs/Datasets/Firm_classification'\n",
    "# reading dataset as df\n",
    "# path = '/Users/friday/Library/CloudStorage/OneDrive-Personal/Documents/MS/UMCP/RA/Assignment-1_Matching-_two_dbs/Datasets/company_names_db1.csv'\n",
    "compustat_file_name = 'compustat_deepak.xlsx'\n",
    "fda_file = 'Firm classifiers.xlsx'\n",
    "df_compustat =  pd.read_excel(dataset_path + \"/\" + compustat_file_name)\n",
    "df_fda_firms =  pd.read_excel(dataset_path + \"/\" + fda_file)"
   ]
  },
  {
   "cell_type": "code",
   "execution_count": 91,
   "metadata": {},
   "outputs": [
    {
     "data": {
      "text/plain": [
       "(9456, 15)"
      ]
     },
     "execution_count": 91,
     "metadata": {},
     "output_type": "execute_result"
    }
   ],
   "source": [
    "df_compustat.shape"
   ]
  },
  {
   "cell_type": "code",
   "execution_count": 113,
   "metadata": {},
   "outputs": [
    {
     "data": {
      "text/html": [
       "<div>\n",
       "<style scoped>\n",
       "    .dataframe tbody tr th:only-of-type {\n",
       "        vertical-align: middle;\n",
       "    }\n",
       "\n",
       "    .dataframe tbody tr th {\n",
       "        vertical-align: top;\n",
       "    }\n",
       "\n",
       "    .dataframe thead th {\n",
       "        text-align: right;\n",
       "    }\n",
       "</style>\n",
       "<table border=\"1\" class=\"dataframe\">\n",
       "  <thead>\n",
       "    <tr style=\"text-align: right;\">\n",
       "      <th></th>\n",
       "      <th>Global Company Key</th>\n",
       "      <th>Ticker Symbol</th>\n",
       "      <th>CUSIP</th>\n",
       "      <th>Company Name</th>\n",
       "      <th>FDA DB</th>\n",
       "      <th>FEI Number</th>\n",
       "      <th>Project Area</th>\n",
       "      <th>Product Type</th>\n",
       "      <th>Product code</th>\n",
       "      <th>NAICS code</th>\n",
       "      <th>NAICS description</th>\n",
       "      <th>FSMA firms</th>\n",
       "      <th>FDA but not FSMA</th>\n",
       "      <th>CPSC firms</th>\n",
       "      <th>NHTSA firms</th>\n",
       "    </tr>\n",
       "  </thead>\n",
       "  <tbody>\n",
       "    <tr>\n",
       "      <th>0</th>\n",
       "      <td>1004</td>\n",
       "      <td>AIR</td>\n",
       "      <td>000361105</td>\n",
       "      <td>aar corp</td>\n",
       "      <td>NaN</td>\n",
       "      <td>NaN</td>\n",
       "      <td>NaN</td>\n",
       "      <td>NaN</td>\n",
       "      <td>NaN</td>\n",
       "      <td>423860.0</td>\n",
       "      <td>Transportation Equipment and Supplies (except Motor Vehicle) Merchant Wholesalers</td>\n",
       "      <td>NaN</td>\n",
       "      <td>NaN</td>\n",
       "      <td>NaN</td>\n",
       "      <td>NaN</td>\n",
       "    </tr>\n",
       "    <tr>\n",
       "      <th>1</th>\n",
       "      <td>1045</td>\n",
       "      <td>AAL</td>\n",
       "      <td>02376R102</td>\n",
       "      <td>american airlines group inc</td>\n",
       "      <td>NaN</td>\n",
       "      <td>NaN</td>\n",
       "      <td>NaN</td>\n",
       "      <td>NaN</td>\n",
       "      <td>NaN</td>\n",
       "      <td>481111.0</td>\n",
       "      <td>Scheduled Passenger Air Transportation</td>\n",
       "      <td>NaN</td>\n",
       "      <td>NaN</td>\n",
       "      <td>NaN</td>\n",
       "      <td>NaN</td>\n",
       "    </tr>\n",
       "    <tr>\n",
       "      <th>2</th>\n",
       "      <td>1050</td>\n",
       "      <td>CECO</td>\n",
       "      <td>125141101</td>\n",
       "      <td>ceco environmental corp</td>\n",
       "      <td>NaN</td>\n",
       "      <td>NaN</td>\n",
       "      <td>NaN</td>\n",
       "      <td>NaN</td>\n",
       "      <td>NaN</td>\n",
       "      <td>333413.0</td>\n",
       "      <td>Industrial and Commercial Fan and Blower and Air Purification Equipment Manufacturing</td>\n",
       "      <td>NaN</td>\n",
       "      <td>NaN</td>\n",
       "      <td>NaN</td>\n",
       "      <td>NaN</td>\n",
       "    </tr>\n",
       "    <tr>\n",
       "      <th>3</th>\n",
       "      <td>1062</td>\n",
       "      <td>ASA</td>\n",
       "      <td>G3156P103</td>\n",
       "      <td>asa gold and precious metals</td>\n",
       "      <td>NaN</td>\n",
       "      <td>NaN</td>\n",
       "      <td>NaN</td>\n",
       "      <td>NaN</td>\n",
       "      <td>NaN</td>\n",
       "      <td>523999.0</td>\n",
       "      <td>Miscellaneous Financial Investment Activities</td>\n",
       "      <td>NaN</td>\n",
       "      <td>NaN</td>\n",
       "      <td>NaN</td>\n",
       "      <td>NaN</td>\n",
       "    </tr>\n",
       "    <tr>\n",
       "      <th>4</th>\n",
       "      <td>1075</td>\n",
       "      <td>PNW</td>\n",
       "      <td>723484101</td>\n",
       "      <td>pinnacle west capital corp</td>\n",
       "      <td>NaN</td>\n",
       "      <td>NaN</td>\n",
       "      <td>NaN</td>\n",
       "      <td>NaN</td>\n",
       "      <td>NaN</td>\n",
       "      <td>2211.0</td>\n",
       "      <td>Electric Power Generation, Transmission and DistributionT</td>\n",
       "      <td>NaN</td>\n",
       "      <td>NaN</td>\n",
       "      <td>NaN</td>\n",
       "      <td>NaN</td>\n",
       "    </tr>\n",
       "  </tbody>\n",
       "</table>\n",
       "</div>"
      ],
      "text/plain": [
       "   Global Company Key Ticker Symbol      CUSIP                  Company Name  \\\n",
       "0  1004                AIR           000361105  aar corp                       \n",
       "1  1045                AAL           02376R102  american airlines group inc    \n",
       "2  1050                CECO          125141101  ceco environmental corp        \n",
       "3  1062                ASA           G3156P103  asa gold and precious metals   \n",
       "4  1075                PNW           723484101  pinnacle west capital corp     \n",
       "\n",
       "   FDA DB  FEI Number  Project Area  Product Type  Product code  NAICS code  \\\n",
       "0 NaN     NaN         NaN           NaN           NaN            423860.0     \n",
       "1 NaN     NaN         NaN           NaN           NaN            481111.0     \n",
       "2 NaN     NaN         NaN           NaN           NaN            333413.0     \n",
       "3 NaN     NaN         NaN           NaN           NaN            523999.0     \n",
       "4 NaN     NaN         NaN           NaN           NaN            2211.0       \n",
       "\n",
       "                                                                       NAICS description  \\\n",
       "0  Transportation Equipment and Supplies (except Motor Vehicle) Merchant Wholesalers       \n",
       "1  Scheduled Passenger Air Transportation                                                  \n",
       "2  Industrial and Commercial Fan and Blower and Air Purification Equipment Manufacturing   \n",
       "3  Miscellaneous Financial Investment Activities                                           \n",
       "4  Electric Power Generation, Transmission and DistributionT                               \n",
       "\n",
       "   FSMA firms  FDA but not FSMA  CPSC firms  NHTSA firms  \n",
       "0 NaN         NaN               NaN         NaN           \n",
       "1 NaN         NaN               NaN         NaN           \n",
       "2 NaN         NaN               NaN         NaN           \n",
       "3 NaN         NaN               NaN         NaN           \n",
       "4 NaN         NaN               NaN         NaN           "
      ]
     },
     "execution_count": 113,
     "metadata": {},
     "output_type": "execute_result"
    }
   ],
   "source": [
    "df_compustat.head()"
   ]
  },
  {
   "cell_type": "code",
   "execution_count": 112,
   "metadata": {},
   "outputs": [
    {
     "data": {
      "text/html": [
       "<div>\n",
       "<style scoped>\n",
       "    .dataframe tbody tr th:only-of-type {\n",
       "        vertical-align: middle;\n",
       "    }\n",
       "\n",
       "    .dataframe tbody tr th {\n",
       "        vertical-align: top;\n",
       "    }\n",
       "\n",
       "    .dataframe thead th {\n",
       "        text-align: right;\n",
       "    }\n",
       "</style>\n",
       "<table border=\"1\" class=\"dataframe\">\n",
       "  <thead>\n",
       "    <tr style=\"text-align: right;\">\n",
       "      <th></th>\n",
       "      <th>FEI Number</th>\n",
       "      <th>Legal Name</th>\n",
       "      <th>Project Area</th>\n",
       "      <th>Product Type</th>\n",
       "      <th>Product code</th>\n",
       "    </tr>\n",
       "  </thead>\n",
       "  <tbody>\n",
       "    <tr>\n",
       "      <th>0</th>\n",
       "      <td>3008839110</td>\n",
       "      <td>pollen collection &amp; sales, inc.</td>\n",
       "      <td>Foodborne Biological Hazards</td>\n",
       "      <td>Food/Cosmetics</td>\n",
       "      <td>NaN</td>\n",
       "    </tr>\n",
       "    <tr>\n",
       "      <th>1</th>\n",
       "      <td>3013285591</td>\n",
       "      <td>patagonia organic llc</td>\n",
       "      <td>Foodborne Biological Hazards</td>\n",
       "      <td>Food/Cosmetics</td>\n",
       "      <td>NaN</td>\n",
       "    </tr>\n",
       "    <tr>\n",
       "      <th>2</th>\n",
       "      <td>3012645346</td>\n",
       "      <td>bar giacosa corp dba bar pitti</td>\n",
       "      <td>Foodborne Biological Hazards</td>\n",
       "      <td>Food/Cosmetics</td>\n",
       "      <td>NaN</td>\n",
       "    </tr>\n",
       "    <tr>\n",
       "      <th>3</th>\n",
       "      <td>3011462240</td>\n",
       "      <td>blood bank of san bernardino and riverside counties</td>\n",
       "      <td>Blood and Blood Products</td>\n",
       "      <td>Biologics</td>\n",
       "      <td>NaN</td>\n",
       "    </tr>\n",
       "    <tr>\n",
       "      <th>4</th>\n",
       "      <td>3012233744</td>\n",
       "      <td>sigona's fruit for thought</td>\n",
       "      <td>Food Composition, Standards, Labeling and Econ</td>\n",
       "      <td>Food/Cosmetics</td>\n",
       "      <td>NaN</td>\n",
       "    </tr>\n",
       "  </tbody>\n",
       "</table>\n",
       "</div>"
      ],
      "text/plain": [
       "   FEI Number                                           Legal Name  \\\n",
       "0  3008839110  pollen collection & sales, inc.                       \n",
       "1  3013285591  patagonia organic llc                                 \n",
       "2  3012645346  bar giacosa corp dba bar pitti                        \n",
       "3  3011462240  blood bank of san bernardino and riverside counties   \n",
       "4  3012233744  sigona's fruit for thought                            \n",
       "\n",
       "                                     Project Area    Product Type Product code  \n",
       "0  Foodborne Biological Hazards                    Food/Cosmetics  NaN          \n",
       "1  Foodborne Biological Hazards                    Food/Cosmetics  NaN          \n",
       "2  Foodborne Biological Hazards                    Food/Cosmetics  NaN          \n",
       "3  Blood and Blood Products                        Biologics       NaN          \n",
       "4  Food Composition, Standards, Labeling and Econ  Food/Cosmetics  NaN          "
      ]
     },
     "execution_count": 112,
     "metadata": {},
     "output_type": "execute_result"
    }
   ],
   "source": [
    "df_fda_firms.head()"
   ]
  },
  {
   "cell_type": "code",
   "execution_count": 108,
   "metadata": {},
   "outputs": [],
   "source": [
    "compustat_firm_names = df_compustat['Company Name'].str.lower()\n",
    "compustat_firm_names = pd.DataFrame({'Company Name':compustat_firm_names.values})"
   ]
  },
  {
   "cell_type": "code",
   "execution_count": 109,
   "metadata": {},
   "outputs": [
    {
     "data": {
      "text/html": [
       "<div>\n",
       "<style scoped>\n",
       "    .dataframe tbody tr th:only-of-type {\n",
       "        vertical-align: middle;\n",
       "    }\n",
       "\n",
       "    .dataframe tbody tr th {\n",
       "        vertical-align: top;\n",
       "    }\n",
       "\n",
       "    .dataframe thead th {\n",
       "        text-align: right;\n",
       "    }\n",
       "</style>\n",
       "<table border=\"1\" class=\"dataframe\">\n",
       "  <thead>\n",
       "    <tr style=\"text-align: right;\">\n",
       "      <th></th>\n",
       "      <th>Company Name</th>\n",
       "    </tr>\n",
       "  </thead>\n",
       "  <tbody>\n",
       "    <tr>\n",
       "      <th>0</th>\n",
       "      <td>aar corp</td>\n",
       "    </tr>\n",
       "    <tr>\n",
       "      <th>1</th>\n",
       "      <td>american airlines group inc</td>\n",
       "    </tr>\n",
       "    <tr>\n",
       "      <th>2</th>\n",
       "      <td>ceco environmental corp</td>\n",
       "    </tr>\n",
       "    <tr>\n",
       "      <th>3</th>\n",
       "      <td>asa gold and precious metals</td>\n",
       "    </tr>\n",
       "    <tr>\n",
       "      <th>4</th>\n",
       "      <td>pinnacle west capital corp</td>\n",
       "    </tr>\n",
       "  </tbody>\n",
       "</table>\n",
       "</div>"
      ],
      "text/plain": [
       "                   Company Name\n",
       "0  aar corp                    \n",
       "1  american airlines group inc \n",
       "2  ceco environmental corp     \n",
       "3  asa gold and precious metals\n",
       "4  pinnacle west capital corp  "
      ]
     },
     "execution_count": 109,
     "metadata": {},
     "output_type": "execute_result"
    }
   ],
   "source": [
    "compustat_firm_names.head()"
   ]
  },
  {
   "cell_type": "code",
   "execution_count": 110,
   "metadata": {},
   "outputs": [],
   "source": [
    "df_fda_firms['Legal Name'] = df_fda_firms['Legal Name'].str.lower() "
   ]
  },
  {
   "cell_type": "code",
   "execution_count": 111,
   "metadata": {},
   "outputs": [],
   "source": [
    "df_compustat['Company Name'] = df_compustat['Company Name'].str.lower()"
   ]
  },
  {
   "cell_type": "code",
   "execution_count": 5,
   "metadata": {},
   "outputs": [
    {
     "data": {
      "text/plain": [
       "(9456, 15)"
      ]
     },
     "execution_count": 5,
     "metadata": {},
     "output_type": "execute_result"
    }
   ],
   "source": [
    "df_compustat.shape"
   ]
  },
  {
   "cell_type": "code",
   "execution_count": 6,
   "metadata": {},
   "outputs": [
    {
     "ename": "NameError",
     "evalue": "name 'compustat_firm_names' is not defined",
     "output_type": "error",
     "traceback": [
      "\u001b[0;31m---------------------------------------------------------------------------\u001b[0m",
      "\u001b[0;31mNameError\u001b[0m                                 Traceback (most recent call last)",
      "Input \u001b[0;32mIn [6]\u001b[0m, in \u001b[0;36m<cell line: 1>\u001b[0;34m()\u001b[0m\n\u001b[0;32m----> 1\u001b[0m \u001b[43mcompustat_firm_names\u001b[49m\u001b[38;5;241m.\u001b[39mshape\n",
      "\u001b[0;31mNameError\u001b[0m: name 'compustat_firm_names' is not defined"
     ]
    }
   ],
   "source": [
    "compustat_firm_names.shape"
   ]
  },
  {
   "cell_type": "code",
   "execution_count": 95,
   "metadata": {},
   "outputs": [],
   "source": [
    "#path3 = '/Users/friday/Library/CloudStorage/OneDrive-Personal/Documents/MS/UMCP/RA/Assignment-1_Matching-_two_dbs/Datasets/compustat_w_naics (3).xlsx'"
   ]
  },
  {
   "cell_type": "code",
   "execution_count": 55,
   "metadata": {},
   "outputs": [],
   "source": [
    "#compustate_df =  pd.read_excel(path3)"
   ]
  },
  {
   "cell_type": "code",
   "execution_count": 4,
   "metadata": {},
   "outputs": [],
   "source": [
    "#compustate_df.head()"
   ]
  },
  {
   "cell_type": "code",
   "execution_count": 57,
   "metadata": {},
   "outputs": [],
   "source": [
    "#df_all_firms = compustate_df[['Company Name', 'Ticker Symbol', 'North American Industry Classification Code']]"
   ]
  },
  {
   "cell_type": "code",
   "execution_count": 5,
   "metadata": {},
   "outputs": [],
   "source": [
    "#compustate_df.head()"
   ]
  },
  {
   "cell_type": "code",
   "execution_count": 6,
   "metadata": {},
   "outputs": [],
   "source": [
    "#df2.shape"
   ]
  },
  {
   "cell_type": "code",
   "execution_count": 7,
   "metadata": {},
   "outputs": [],
   "source": [
    "#df1.head()"
   ]
  },
  {
   "cell_type": "code",
   "execution_count": 98,
   "metadata": {},
   "outputs": [],
   "source": [
    "#df1.shape"
   ]
  },
  {
   "cell_type": "code",
   "execution_count": 51,
   "metadata": {},
   "outputs": [],
   "source": [
    "#df_temp = df.copy(deep = False)"
   ]
  },
  {
   "cell_type": "code",
   "execution_count": 62,
   "metadata": {},
   "outputs": [
    {
     "data": {
      "text/plain": [
       "(119328, 2)"
      ]
     },
     "execution_count": 62,
     "metadata": {},
     "output_type": "execute_result"
    }
   ],
   "source": [
    "#df_temp.shape"
   ]
  },
  {
   "cell_type": "code",
   "execution_count": 10,
   "metadata": {},
   "outputs": [],
   "source": [
    "df_all_firms = pd.concat([df_compustat['Company Name'], df_fda_firms['Legal Name']], axis=0)\n",
    "df_all_firms = pd.DataFrame({'US Company Name':df_all_firms.values})\n",
    "#df_all_firms = df_all_firms['US Company Name'].str.lower()\n",
    "#df_all_firms = pd.DataFrame({'US Company Name':df_all_firms.values})"
   ]
  },
  {
   "cell_type": "code",
   "execution_count": 11,
   "metadata": {},
   "outputs": [
    {
     "data": {
      "text/html": [
       "<div>\n",
       "<style scoped>\n",
       "    .dataframe tbody tr th:only-of-type {\n",
       "        vertical-align: middle;\n",
       "    }\n",
       "\n",
       "    .dataframe tbody tr th {\n",
       "        vertical-align: top;\n",
       "    }\n",
       "\n",
       "    .dataframe thead th {\n",
       "        text-align: right;\n",
       "    }\n",
       "</style>\n",
       "<table border=\"1\" class=\"dataframe\">\n",
       "  <thead>\n",
       "    <tr style=\"text-align: right;\">\n",
       "      <th></th>\n",
       "      <th>US Company Name</th>\n",
       "    </tr>\n",
       "  </thead>\n",
       "  <tbody>\n",
       "    <tr>\n",
       "      <th>0</th>\n",
       "      <td>aar corp</td>\n",
       "    </tr>\n",
       "    <tr>\n",
       "      <th>1</th>\n",
       "      <td>american airlines group inc</td>\n",
       "    </tr>\n",
       "    <tr>\n",
       "      <th>2</th>\n",
       "      <td>ceco environmental corp</td>\n",
       "    </tr>\n",
       "    <tr>\n",
       "      <th>3</th>\n",
       "      <td>asa gold and precious metals</td>\n",
       "    </tr>\n",
       "    <tr>\n",
       "      <th>4</th>\n",
       "      <td>pinnacle west capital corp</td>\n",
       "    </tr>\n",
       "  </tbody>\n",
       "</table>\n",
       "</div>"
      ],
      "text/plain": [
       "                US Company Name\n",
       "0  aar corp                    \n",
       "1  american airlines group inc \n",
       "2  ceco environmental corp     \n",
       "3  asa gold and precious metals\n",
       "4  pinnacle west capital corp  "
      ]
     },
     "execution_count": 11,
     "metadata": {},
     "output_type": "execute_result"
    }
   ],
   "source": [
    "df_all_firms.head()"
   ]
  },
  {
   "cell_type": "code",
   "execution_count": 12,
   "metadata": {},
   "outputs": [
    {
     "data": {
      "text/plain": [
       "(287187, 1)"
      ]
     },
     "execution_count": 12,
     "metadata": {},
     "output_type": "execute_result"
    }
   ],
   "source": [
    "df_all_firms.shape"
   ]
  },
  {
   "cell_type": "code",
   "execution_count": 11,
   "metadata": {},
   "outputs": [],
   "source": [
    "#df = pd.DataFrame({'No':df.index, 'US Company Name':df.values})"
   ]
  },
  {
   "cell_type": "code",
   "execution_count": 12,
   "metadata": {},
   "outputs": [],
   "source": [
    "#df.head()"
   ]
  },
  {
   "cell_type": "markdown",
   "metadata": {},
   "source": [
    "## ngrams "
   ]
  },
  {
   "cell_type": "code",
   "execution_count": 13,
   "metadata": {},
   "outputs": [
    {
     "name": "stdout",
     "output_type": "stream",
     "text": [
      "All 3-grams in \"EXPEDITORS INTERNATIONAL\":\n"
     ]
    },
    {
     "data": {
      "text/plain": [
       "['EXPE',\n",
       " 'XPED',\n",
       " 'PEDI',\n",
       " 'EDIT',\n",
       " 'DITO',\n",
       " 'ITOR',\n",
       " 'TORS',\n",
       " 'ORS ',\n",
       " 'RS I',\n",
       " 'S IN',\n",
       " ' INT',\n",
       " 'INTE',\n",
       " 'NTER',\n",
       " 'TERN',\n",
       " 'ERNA',\n",
       " 'RNAT',\n",
       " 'NATI',\n",
       " 'ATIO',\n",
       " 'TION',\n",
       " 'IONA',\n",
       " 'ONAL']"
      ]
     },
     "execution_count": 13,
     "metadata": {},
     "output_type": "execute_result"
    }
   ],
   "source": [
    "#  ngrams(here we are taking n = 3 thus 3-gram (trigrams )\n",
    "#  used for cleaning and removing some punctuation (dots, comma’s etc) i.e.((,-./)) from a string \n",
    "#  and generate and collect all n-grams of the string.  \n",
    "\n",
    " \n",
    "def ngrams(string, n=4):\n",
    "\n",
    "    string = re.sub(r'[,-./]|\\sBD',r'', string)\n",
    "    ngrams = zip(*[string[i:] for i in range(n)])\n",
    "    return [''.join(ngram) for ngram in ngrams]\n",
    "\n",
    "# Testing ngrams work for verification \n",
    "\n",
    "print('All 3-grams in \"EXPEDITORS INTERNATIONAL\":')\n",
    "ngrams('EXPEDITORS INTERNATIONAL')"
   ]
  },
  {
   "cell_type": "markdown",
   "metadata": {},
   "source": [
    "## TF-IDF and Vectorization"
   ]
  },
  {
   "cell_type": "code",
   "execution_count": 14,
   "metadata": {},
   "outputs": [],
   "source": [
    "# After having each words split (token or  lemmas (n-gram generated items) ) into a vector and\n",
    "# Scikit-learn’s  Tfidfvectorizer aim to do the same thing, which is to convert a collection of raw documents to a matrix of TF-IDF features. \n",
    "# Generate the matrix of TF-IDF (Term Frequency-Inverse Document frequency)values for each\n",
    "\n",
    "firms = df_all_firms['US Company Name']\n",
    "vectorizer = TfidfVectorizer(min_df=1, analyzer=ngrams)\n",
    "tf_idf_matrix = vectorizer.fit_transform(firms.values.astype('U'))"
   ]
  },
  {
   "cell_type": "code",
   "execution_count": 15,
   "metadata": {},
   "outputs": [
    {
     "name": "stdout",
     "output_type": "stream",
     "text": [
      "  (0, 40052)\t0.2954284285021588\n",
      "  (0, 3831)\t0.29446570389039534\n",
      "  (0, 105640)\t0.4005237730012691\n",
      "  (0, 30500)\t0.49057354365493394\n",
      "  (0, 25824)\t0.6518667796350318\n"
     ]
    }
   ],
   "source": [
    "# View sparse CSR matrix.\n",
    "print(tf_idf_matrix[0])\n"
   ]
  },
  {
   "cell_type": "markdown",
   "metadata": {},
   "source": [
    "## Optimized Cosine Similarity  by  sparse_dot_topn "
   ]
  },
  {
   "cell_type": "code",
   "execution_count": 16,
   "metadata": {},
   "outputs": [],
   "source": [
    "# calculate the similarity between two vectors of TF-IDF values the Cosine Similarity is usually used.\n",
    "# result matrix in a very sparse terms and Scikit-learn deals with this nicely by returning a sparse CSR matrix.\n",
    "\n",
    "def awesome_cossim_top(A, B, ntop, lower_bound=0):\n",
    "    # force A and B as a CSR matrix.\n",
    "    # If they have already been CSR, there is no overhead\n",
    "    A = A.tocsr()\n",
    "    B = B.tocsr()\n",
    "    M, _ = A.shape\n",
    "    _, N = B.shape\n",
    " \n",
    "    idx_dtype = np.int32\n",
    " \n",
    "    nnz_max = M*ntop\n",
    " \n",
    "    indptr = np.zeros(M+1, dtype=idx_dtype)\n",
    "    indices = np.zeros(nnz_max, dtype=idx_dtype)\n",
    "    data = np.zeros(nnz_max, dtype=A.dtype)\n",
    "\n",
    "    ct.sparse_dot_topn(\n",
    "        M, N, np.asarray(A.indptr, dtype=idx_dtype),\n",
    "        np.asarray(A.indices, dtype=idx_dtype),\n",
    "        A.data,\n",
    "        np.asarray(B.indptr, dtype=idx_dtype),\n",
    "        np.asarray(B.indices, dtype=idx_dtype),\n",
    "        B.data,\n",
    "        ntop,\n",
    "        lower_bound,\n",
    "        indptr, indices, data)\n",
    "\n",
    "    return csr_matrix((data,indices,indptr),shape=(M,N))\n"
   ]
  },
  {
   "cell_type": "code",
   "execution_count": 17,
   "metadata": {},
   "outputs": [
    {
     "name": "stdout",
     "output_type": "stream",
     "text": [
      "SELFTIMED: 76.10653805732727\n"
     ]
    }
   ],
   "source": [
    "#  Run the optimized cosine similarity function. \n",
    "#  Only stores the top 10 most similar items with a similarity above 0.8\n",
    "\n",
    "t1 = time.time()\n",
    "matches = awesome_cossim_top(tf_idf_matrix, tf_idf_matrix.transpose(), 10, 0.8)\n",
    "t = time.time()-t1\n",
    "print(\"SELFTIMED:\", t)"
   ]
  },
  {
   "cell_type": "code",
   "execution_count": 18,
   "metadata": {},
   "outputs": [],
   "source": [
    "# unpacks the resulting sparse matrix\n",
    "\n",
    "def get_matches_df(sparse_matrix, name_vector, top=100):\n",
    "    non_zeros = sparse_matrix.nonzero()\n",
    "    \n",
    "    sparserows = non_zeros[0]\n",
    "    sparsecols = non_zeros[1]\n",
    "    \n",
    "    if top:\n",
    "        nr_matches = top\n",
    "    else:\n",
    "        nr_matches = sparsecols.size\n",
    "    \n",
    "    left_side = np.empty([nr_matches], dtype=object)\n",
    "    right_side = np.empty([nr_matches], dtype=object)\n",
    "    similairity = np.zeros(nr_matches)\n",
    "    \n",
    "    for index in range(0, nr_matches):\n",
    "        left_side[index] = name_vector[sparserows[index]]\n",
    "        right_side[index] = name_vector[sparsecols[index]]\n",
    "        similairity[index] = sparse_matrix.data[index]\n",
    "    \n",
    "    return pd.DataFrame({'left_side': left_side,\n",
    "                          'right_side': right_side,\n",
    "                           'similairity': similairity})"
   ]
  },
  {
   "cell_type": "code",
   "execution_count": 16,
   "metadata": {},
   "outputs": [
    {
     "data": {
      "text/plain": [
       "(287187,)"
      ]
     },
     "execution_count": 16,
     "metadata": {},
     "output_type": "execute_result"
    }
   ],
   "source": [
    "firms.shape"
   ]
  },
  {
   "cell_type": "code",
   "execution_count": 19,
   "metadata": {},
   "outputs": [
    {
     "data": {
      "text/html": [
       "<div>\n",
       "<style scoped>\n",
       "    .dataframe tbody tr th:only-of-type {\n",
       "        vertical-align: middle;\n",
       "    }\n",
       "\n",
       "    .dataframe tbody tr th {\n",
       "        vertical-align: top;\n",
       "    }\n",
       "\n",
       "    .dataframe thead th {\n",
       "        text-align: right;\n",
       "    }\n",
       "</style>\n",
       "<table border=\"1\" class=\"dataframe\">\n",
       "  <thead>\n",
       "    <tr style=\"text-align: right;\">\n",
       "      <th></th>\n",
       "      <th>left_side</th>\n",
       "      <th>right_side</th>\n",
       "      <th>similairity</th>\n",
       "    </tr>\n",
       "  </thead>\n",
       "  <tbody>\n",
       "    <tr>\n",
       "      <th>161</th>\n",
       "      <td>barrick gold corp</td>\n",
       "      <td>barrick gold corpo</td>\n",
       "      <td>0.982770</td>\n",
       "    </tr>\n",
       "    <tr>\n",
       "      <th>172</th>\n",
       "      <td>becton dickinson &amp; co</td>\n",
       "      <td>becton dickinson &amp; co., ltd.</td>\n",
       "      <td>0.972535</td>\n",
       "    </tr>\n",
       "    <tr>\n",
       "      <th>117</th>\n",
       "      <td>archer-daniels-midland co</td>\n",
       "      <td>archer-daniels-midland company</td>\n",
       "      <td>0.964211</td>\n",
       "    </tr>\n",
       "    <tr>\n",
       "      <th>187</th>\n",
       "      <td>bio-rad laboratories inc</td>\n",
       "      <td>bio-rad laboratories</td>\n",
       "      <td>0.956718</td>\n",
       "    </tr>\n",
       "    <tr>\n",
       "      <th>173</th>\n",
       "      <td>becton dickinson &amp; co</td>\n",
       "      <td>becton dickinson &amp; company</td>\n",
       "      <td>0.953255</td>\n",
       "    </tr>\n",
       "    <tr>\n",
       "      <th>53</th>\n",
       "      <td>honeywell international inc</td>\n",
       "      <td>honeywell international</td>\n",
       "      <td>0.952129</td>\n",
       "    </tr>\n",
       "    <tr>\n",
       "      <th>15</th>\n",
       "      <td>abbott laboratories</td>\n",
       "      <td>abbott laboratories, inc.</td>\n",
       "      <td>0.951230</td>\n",
       "    </tr>\n",
       "    <tr>\n",
       "      <th>16</th>\n",
       "      <td>abbott laboratories</td>\n",
       "      <td>abbott laboratories, inc</td>\n",
       "      <td>0.951230</td>\n",
       "    </tr>\n",
       "    <tr>\n",
       "      <th>17</th>\n",
       "      <td>abbott laboratories</td>\n",
       "      <td>abbott laboratories co.</td>\n",
       "      <td>0.944431</td>\n",
       "    </tr>\n",
       "    <tr>\n",
       "      <th>125</th>\n",
       "      <td>arrow electronics inc</td>\n",
       "      <td>arrow electronics</td>\n",
       "      <td>0.944209</td>\n",
       "    </tr>\n",
       "    <tr>\n",
       "      <th>74</th>\n",
       "      <td>abm industries inc</td>\n",
       "      <td>abm industries</td>\n",
       "      <td>0.941063</td>\n",
       "    </tr>\n",
       "    <tr>\n",
       "      <th>112</th>\n",
       "      <td>applied materials inc</td>\n",
       "      <td>applied materials</td>\n",
       "      <td>0.935973</td>\n",
       "    </tr>\n",
       "    <tr>\n",
       "      <th>66</th>\n",
       "      <td>american airlines inc</td>\n",
       "      <td>american airlines</td>\n",
       "      <td>0.934866</td>\n",
       "    </tr>\n",
       "    <tr>\n",
       "      <th>19</th>\n",
       "      <td>abbott laboratories</td>\n",
       "      <td>abbott laboratories ltd.</td>\n",
       "      <td>0.933974</td>\n",
       "    </tr>\n",
       "    <tr>\n",
       "      <th>18</th>\n",
       "      <td>abbott laboratories</td>\n",
       "      <td>abbott laboratories ltd</td>\n",
       "      <td>0.933974</td>\n",
       "    </tr>\n",
       "    <tr>\n",
       "      <th>20</th>\n",
       "      <td>abbott laboratories</td>\n",
       "      <td>abbott laboratories s.a.</td>\n",
       "      <td>0.931090</td>\n",
       "    </tr>\n",
       "    <tr>\n",
       "      <th>21</th>\n",
       "      <td>abbott laboratories</td>\n",
       "      <td>abbott laboratories c.a.</td>\n",
       "      <td>0.930816</td>\n",
       "    </tr>\n",
       "    <tr>\n",
       "      <th>3</th>\n",
       "      <td>american airlines group inc</td>\n",
       "      <td>american airlines group</td>\n",
       "      <td>0.928566</td>\n",
       "    </tr>\n",
       "    <tr>\n",
       "      <th>22</th>\n",
       "      <td>abbott laboratories</td>\n",
       "      <td>abbott laboratorio</td>\n",
       "      <td>0.918168</td>\n",
       "    </tr>\n",
       "    <tr>\n",
       "      <th>140</th>\n",
       "      <td>avery dennison corp</td>\n",
       "      <td>avery dennison</td>\n",
       "      <td>0.915093</td>\n",
       "    </tr>\n",
       "    <tr>\n",
       "      <th>54</th>\n",
       "      <td>honeywell international inc</td>\n",
       "      <td>honeywell international inc div</td>\n",
       "      <td>0.914767</td>\n",
       "    </tr>\n",
       "    <tr>\n",
       "      <th>199</th>\n",
       "      <td>boeing co</td>\n",
       "      <td>boeing</td>\n",
       "      <td>0.905652</td>\n",
       "    </tr>\n",
       "    <tr>\n",
       "      <th>141</th>\n",
       "      <td>avery dennison corp</td>\n",
       "      <td>avery dennison corp/avery dennison medical</td>\n",
       "      <td>0.902091</td>\n",
       "    </tr>\n",
       "    <tr>\n",
       "      <th>26</th>\n",
       "      <td>acme united corp</td>\n",
       "      <td>acme united corporation</td>\n",
       "      <td>0.899275</td>\n",
       "    </tr>\n",
       "    <tr>\n",
       "      <th>174</th>\n",
       "      <td>becton dickinson &amp; co</td>\n",
       "      <td>becton dickinson</td>\n",
       "      <td>0.890327</td>\n",
       "    </tr>\n",
       "    <tr>\n",
       "      <th>47</th>\n",
       "      <td>petro usa inc</td>\n",
       "      <td>petro usa</td>\n",
       "      <td>0.876356</td>\n",
       "    </tr>\n",
       "    <tr>\n",
       "      <th>188</th>\n",
       "      <td>bio-rad laboratories inc</td>\n",
       "      <td>bio-rad laboratories gmbh</td>\n",
       "      <td>0.876077</td>\n",
       "    </tr>\n",
       "    <tr>\n",
       "      <th>175</th>\n",
       "      <td>becton dickinson &amp; co</td>\n",
       "      <td>becton dickinson co</td>\n",
       "      <td>0.875591</td>\n",
       "    </tr>\n",
       "    <tr>\n",
       "      <th>99</th>\n",
       "      <td>andersons inc</td>\n",
       "      <td>andersons</td>\n",
       "      <td>0.866887</td>\n",
       "    </tr>\n",
       "    <tr>\n",
       "      <th>176</th>\n",
       "      <td>becton dickinson &amp; co</td>\n",
       "      <td>becton dickinson, s.a.</td>\n",
       "      <td>0.865466</td>\n",
       "    </tr>\n",
       "    <tr>\n",
       "      <th>55</th>\n",
       "      <td>honeywell international inc</td>\n",
       "      <td>honeywell international sarl</td>\n",
       "      <td>0.864127</td>\n",
       "    </tr>\n",
       "    <tr>\n",
       "      <th>67</th>\n",
       "      <td>american airlines inc</td>\n",
       "      <td>american airlines group</td>\n",
       "      <td>0.853273</td>\n",
       "    </tr>\n",
       "    <tr>\n",
       "      <th>134</th>\n",
       "      <td>astronics corp</td>\n",
       "      <td>astronics corporation</td>\n",
       "      <td>0.845888</td>\n",
       "    </tr>\n",
       "    <tr>\n",
       "      <th>182</th>\n",
       "      <td>berkshire hathaway</td>\n",
       "      <td>berkshire hathaway energy co</td>\n",
       "      <td>0.841224</td>\n",
       "    </tr>\n",
       "    <tr>\n",
       "      <th>100</th>\n",
       "      <td>andersons inc</td>\n",
       "      <td>the andersons inc</td>\n",
       "      <td>0.840202</td>\n",
       "    </tr>\n",
       "    <tr>\n",
       "      <th>130</th>\n",
       "      <td>ashland inc</td>\n",
       "      <td>ashland</td>\n",
       "      <td>0.834969</td>\n",
       "    </tr>\n",
       "    <tr>\n",
       "      <th>177</th>\n",
       "      <td>becton dickinson &amp; co</td>\n",
       "      <td>becton, dickinson &amp; co., (bd)</td>\n",
       "      <td>0.824283</td>\n",
       "    </tr>\n",
       "    <tr>\n",
       "      <th>132</th>\n",
       "      <td>astronova inc</td>\n",
       "      <td>astronova</td>\n",
       "      <td>0.822297</td>\n",
       "    </tr>\n",
       "    <tr>\n",
       "      <th>68</th>\n",
       "      <td>american airlines inc</td>\n",
       "      <td>american airlines cargo</td>\n",
       "      <td>0.820646</td>\n",
       "    </tr>\n",
       "    <tr>\n",
       "      <th>69</th>\n",
       "      <td>american airlines inc</td>\n",
       "      <td>american airlines iah</td>\n",
       "      <td>0.815085</td>\n",
       "    </tr>\n",
       "    <tr>\n",
       "      <th>178</th>\n",
       "      <td>becton dickinson &amp; co</td>\n",
       "      <td>becton dickinson and co</td>\n",
       "      <td>0.811507</td>\n",
       "    </tr>\n",
       "    <tr>\n",
       "      <th>56</th>\n",
       "      <td>honeywell international inc</td>\n",
       "      <td>honeywell inc.</td>\n",
       "      <td>0.809915</td>\n",
       "    </tr>\n",
       "    <tr>\n",
       "      <th>57</th>\n",
       "      <td>honeywell international inc</td>\n",
       "      <td>honeywell inc</td>\n",
       "      <td>0.809915</td>\n",
       "    </tr>\n",
       "    <tr>\n",
       "      <th>154</th>\n",
       "      <td>popular inc</td>\n",
       "      <td>ei popular inc.</td>\n",
       "      <td>0.808211</td>\n",
       "    </tr>\n",
       "    <tr>\n",
       "      <th>167</th>\n",
       "      <td>applied industrial tech inc</td>\n",
       "      <td>applied industrial technologies</td>\n",
       "      <td>0.807219</td>\n",
       "    </tr>\n",
       "    <tr>\n",
       "      <th>5</th>\n",
       "      <td>american airlines group inc</td>\n",
       "      <td>american airlines, inc.</td>\n",
       "      <td>0.801991</td>\n",
       "    </tr>\n",
       "    <tr>\n",
       "      <th>6</th>\n",
       "      <td>american airlines group inc</td>\n",
       "      <td>american airlines inc</td>\n",
       "      <td>0.801991</td>\n",
       "    </tr>\n",
       "    <tr>\n",
       "      <th>4</th>\n",
       "      <td>american airlines group inc</td>\n",
       "      <td>american airlines, inc</td>\n",
       "      <td>0.801991</td>\n",
       "    </tr>\n",
       "    <tr>\n",
       "      <th>7</th>\n",
       "      <td>american airlines group inc</td>\n",
       "      <td>american airlines inc.</td>\n",
       "      <td>0.801991</td>\n",
       "    </tr>\n",
       "    <tr>\n",
       "      <th>8</th>\n",
       "      <td>american airlines group inc</td>\n",
       "      <td>american airlines inc</td>\n",
       "      <td>0.801991</td>\n",
       "    </tr>\n",
       "    <tr>\n",
       "      <th>70</th>\n",
       "      <td>american airlines inc</td>\n",
       "      <td>american airlines group inc</td>\n",
       "      <td>0.801991</td>\n",
       "    </tr>\n",
       "  </tbody>\n",
       "</table>\n",
       "</div>"
      ],
      "text/plain": [
       "                       left_side                                  right_side  \\\n",
       "161  barrick gold corp            barrick gold corpo                           \n",
       "172  becton dickinson & co        becton dickinson & co., ltd.                 \n",
       "117  archer-daniels-midland co    archer-daniels-midland company               \n",
       "187  bio-rad laboratories inc     bio-rad laboratories                         \n",
       "173  becton dickinson & co        becton dickinson & company                   \n",
       "53   honeywell international inc  honeywell international                      \n",
       "15   abbott laboratories          abbott laboratories, inc.                    \n",
       "16   abbott laboratories          abbott laboratories, inc                     \n",
       "17   abbott laboratories          abbott laboratories co.                      \n",
       "125  arrow electronics inc        arrow electronics                            \n",
       "74   abm industries inc           abm industries                               \n",
       "112  applied materials inc        applied materials                            \n",
       "66   american airlines inc        american airlines                            \n",
       "19   abbott laboratories          abbott laboratories ltd.                     \n",
       "18   abbott laboratories          abbott laboratories ltd                      \n",
       "20   abbott laboratories          abbott laboratories s.a.                     \n",
       "21   abbott laboratories          abbott laboratories c.a.                     \n",
       "3    american airlines group inc  american airlines group                      \n",
       "22   abbott laboratories          abbott laboratorio                           \n",
       "140  avery dennison corp          avery dennison                               \n",
       "54   honeywell international inc  honeywell international inc div              \n",
       "199  boeing co                    boeing                                       \n",
       "141  avery dennison corp          avery dennison corp/avery dennison medical   \n",
       "26   acme united corp             acme united corporation                      \n",
       "174  becton dickinson & co        becton dickinson                             \n",
       "47   petro usa inc                petro usa                                    \n",
       "188  bio-rad laboratories inc     bio-rad laboratories gmbh                    \n",
       "175  becton dickinson & co        becton dickinson co                          \n",
       "99   andersons inc                andersons                                    \n",
       "176  becton dickinson & co        becton dickinson, s.a.                       \n",
       "55   honeywell international inc  honeywell international sarl                 \n",
       "67   american airlines inc        american airlines group                      \n",
       "134  astronics corp               astronics corporation                        \n",
       "182  berkshire hathaway           berkshire hathaway energy co                 \n",
       "100  andersons inc                the andersons inc                            \n",
       "130  ashland inc                  ashland                                      \n",
       "177  becton dickinson & co        becton, dickinson & co., (bd)                \n",
       "132  astronova inc                astronova                                    \n",
       "68   american airlines inc        american airlines cargo                      \n",
       "69   american airlines inc        american airlines iah                        \n",
       "178  becton dickinson & co        becton dickinson and co                      \n",
       "56   honeywell international inc  honeywell inc.                               \n",
       "57   honeywell international inc  honeywell inc                                \n",
       "154  popular inc                  ei popular inc.                              \n",
       "167  applied industrial tech inc  applied industrial technologies              \n",
       "5    american airlines group inc  american airlines, inc.                      \n",
       "6    american airlines group inc  american airlines inc                        \n",
       "4    american airlines group inc  american airlines, inc                       \n",
       "7    american airlines group inc  american airlines inc.                       \n",
       "8    american airlines group inc  american airlines inc                        \n",
       "70   american airlines inc        american airlines group inc                  \n",
       "\n",
       "     similairity  \n",
       "161  0.982770     \n",
       "172  0.972535     \n",
       "117  0.964211     \n",
       "187  0.956718     \n",
       "173  0.953255     \n",
       "53   0.952129     \n",
       "15   0.951230     \n",
       "16   0.951230     \n",
       "17   0.944431     \n",
       "125  0.944209     \n",
       "74   0.941063     \n",
       "112  0.935973     \n",
       "66   0.934866     \n",
       "19   0.933974     \n",
       "18   0.933974     \n",
       "20   0.931090     \n",
       "21   0.930816     \n",
       "3    0.928566     \n",
       "22   0.918168     \n",
       "140  0.915093     \n",
       "54   0.914767     \n",
       "199  0.905652     \n",
       "141  0.902091     \n",
       "26   0.899275     \n",
       "174  0.890327     \n",
       "47   0.876356     \n",
       "188  0.876077     \n",
       "175  0.875591     \n",
       "99   0.866887     \n",
       "176  0.865466     \n",
       "55   0.864127     \n",
       "67   0.853273     \n",
       "134  0.845888     \n",
       "182  0.841224     \n",
       "100  0.840202     \n",
       "130  0.834969     \n",
       "177  0.824283     \n",
       "132  0.822297     \n",
       "68   0.820646     \n",
       "69   0.815085     \n",
       "178  0.811507     \n",
       "56   0.809915     \n",
       "57   0.809915     \n",
       "154  0.808211     \n",
       "167  0.807219     \n",
       "5    0.801991     \n",
       "6    0.801991     \n",
       "4    0.801991     \n",
       "7    0.801991     \n",
       "8    0.801991     \n",
       "70   0.801991     "
      ]
     },
     "execution_count": 19,
     "metadata": {},
     "output_type": "execute_result"
    }
   ],
   "source": [
    "# store the  matches into new dataframe called matched_df and printing 10 samples\n",
    "\n",
    "matches_df = get_matches_df(matches, firms, top=200)\n",
    "matches_df = matches_df[matches_df['similairity'] < 0.99999] # For removing all exact matches\n",
    "matches_df.sort_values('similairity', ascending=False).head(100)"
   ]
  },
  {
   "cell_type": "code",
   "execution_count": 110,
   "metadata": {},
   "outputs": [],
   "source": [
    "#matches_df = get_matches_df(matches, room_types)"
   ]
  },
  {
   "cell_type": "code",
   "execution_count": 20,
   "metadata": {},
   "outputs": [],
   "source": [
    "matches_df = get_matches_df(matches, firms, top=firms.shape[0])"
   ]
  },
  {
   "cell_type": "code",
   "execution_count": 21,
   "metadata": {},
   "outputs": [
    {
     "data": {
      "text/plain": [
       "(287187, 3)"
      ]
     },
     "execution_count": 21,
     "metadata": {},
     "output_type": "execute_result"
    }
   ],
   "source": [
    "matches_df.shape"
   ]
  },
  {
   "cell_type": "code",
   "execution_count": 22,
   "metadata": {},
   "outputs": [
    {
     "data": {
      "text/html": [
       "<div>\n",
       "<style scoped>\n",
       "    .dataframe tbody tr th:only-of-type {\n",
       "        vertical-align: middle;\n",
       "    }\n",
       "\n",
       "    .dataframe tbody tr th {\n",
       "        vertical-align: top;\n",
       "    }\n",
       "\n",
       "    .dataframe thead th {\n",
       "        text-align: right;\n",
       "    }\n",
       "</style>\n",
       "<table border=\"1\" class=\"dataframe\">\n",
       "  <thead>\n",
       "    <tr style=\"text-align: right;\">\n",
       "      <th></th>\n",
       "      <th>left_side</th>\n",
       "      <th>right_side</th>\n",
       "      <th>similairity</th>\n",
       "    </tr>\n",
       "  </thead>\n",
       "  <tbody>\n",
       "    <tr>\n",
       "      <th>75110</th>\n",
       "      <td>geoje fisheries cooperatives marine product processing plant</td>\n",
       "      <td>geoje fisheries cooperatives marine product processing plant</td>\n",
       "      <td>1.0</td>\n",
       "    </tr>\n",
       "    <tr>\n",
       "      <th>79083</th>\n",
       "      <td>billings clinic reproductive medicine and fertility care</td>\n",
       "      <td>billings clinic reproductive medicine and fertility care</td>\n",
       "      <td>1.0</td>\n",
       "    </tr>\n",
       "    <tr>\n",
       "      <th>29208</th>\n",
       "      <td>quality builders, llc dba blue valley aquaculture</td>\n",
       "      <td>quality builders, llc dba blue valley aquaculture</td>\n",
       "      <td>1.0</td>\n",
       "    </tr>\n",
       "    <tr>\n",
       "      <th>67925</th>\n",
       "      <td>sonoma specialty food corporation</td>\n",
       "      <td>sonoma specialty food corporation</td>\n",
       "      <td>1.0</td>\n",
       "    </tr>\n",
       "    <tr>\n",
       "      <th>50503</th>\n",
       "      <td>key distributed products dba advanced vision technologies, inc.</td>\n",
       "      <td>key distributed products dba advanced vision technologies, inc.</td>\n",
       "      <td>1.0</td>\n",
       "    </tr>\n",
       "    <tr>\n",
       "      <th>111079</th>\n",
       "      <td>terminal freezers, llc a lineage logistics company</td>\n",
       "      <td>terminal freezers, llc a lineage logistics company</td>\n",
       "      <td>1.0</td>\n",
       "    </tr>\n",
       "    <tr>\n",
       "      <th>287000</th>\n",
       "      <td>productores  dulces y galletas cabadas de la piedad sa cv</td>\n",
       "      <td>productores  dulces y galletas cabadas de la piedad sa cv</td>\n",
       "      <td>1.0</td>\n",
       "    </tr>\n",
       "    <tr>\n",
       "      <th>247826</th>\n",
       "      <td>valeant laboratorios grossman sa</td>\n",
       "      <td>valeant laboratorios grossman sa</td>\n",
       "      <td>1.0</td>\n",
       "    </tr>\n",
       "    <tr>\n",
       "      <th>85191</th>\n",
       "      <td>transcendencias comerciales s.l.</td>\n",
       "      <td>transcendencias comerciales s.l.</td>\n",
       "      <td>1.0</td>\n",
       "    </tr>\n",
       "    <tr>\n",
       "      <th>240237</th>\n",
       "      <td>aogrand international trade corporation</td>\n",
       "      <td>aogrand international trade corporation</td>\n",
       "      <td>1.0</td>\n",
       "    </tr>\n",
       "  </tbody>\n",
       "</table>\n",
       "</div>"
      ],
      "text/plain": [
       "                                                              left_side  \\\n",
       "75110   geoje fisheries cooperatives marine product processing plant      \n",
       "79083   billings clinic reproductive medicine and fertility care          \n",
       "29208   quality builders, llc dba blue valley aquaculture                 \n",
       "67925   sonoma specialty food corporation                                 \n",
       "50503   key distributed products dba advanced vision technologies, inc.   \n",
       "111079  terminal freezers, llc a lineage logistics company                \n",
       "287000  productores  dulces y galletas cabadas de la piedad sa cv         \n",
       "247826  valeant laboratorios grossman sa                                  \n",
       "85191   transcendencias comerciales s.l.                                  \n",
       "240237  aogrand international trade corporation                           \n",
       "\n",
       "                                                             right_side  \\\n",
       "75110   geoje fisheries cooperatives marine product processing plant      \n",
       "79083   billings clinic reproductive medicine and fertility care          \n",
       "29208   quality builders, llc dba blue valley aquaculture                 \n",
       "67925   sonoma specialty food corporation                                 \n",
       "50503   key distributed products dba advanced vision technologies, inc.   \n",
       "111079  terminal freezers, llc a lineage logistics company                \n",
       "287000  productores  dulces y galletas cabadas de la piedad sa cv         \n",
       "247826  valeant laboratorios grossman sa                                  \n",
       "85191   transcendencias comerciales s.l.                                  \n",
       "240237  aogrand international trade corporation                           \n",
       "\n",
       "        similairity  \n",
       "75110   1.0          \n",
       "79083   1.0          \n",
       "29208   1.0          \n",
       "67925   1.0          \n",
       "50503   1.0          \n",
       "111079  1.0          \n",
       "287000  1.0          \n",
       "247826  1.0          \n",
       "85191   1.0          \n",
       "240237  1.0          "
      ]
     },
     "execution_count": 22,
     "metadata": {},
     "output_type": "execute_result"
    }
   ],
   "source": [
    "# printing the matched in sorted order \n",
    "\n",
    "matches_df.sort_values(['similairity'], ascending=False).head(10)"
   ]
  },
  {
   "cell_type": "code",
   "execution_count": 114,
   "metadata": {},
   "outputs": [],
   "source": [
    "#matches_df.to_csv('matches_both_files.csv')"
   ]
  },
  {
   "cell_type": "code",
   "execution_count": 23,
   "metadata": {},
   "outputs": [],
   "source": [
    "def is_similar(left, right, score):\n",
    "    left = str(left).replace(\"-\", \"\")\n",
    "    right = str(right).replace(\"-\",\"\")\n",
    "    left = str(left).replace(\"THE\", \"\")\n",
    "    right = str(right).replace(\"THE\",\"\")\n",
    "    left = str(left).replace(\"The\", \"\")\n",
    "    right = str(right).replace(\"The\",\"\")\n",
    "    left = str(left).split(\" \")\n",
    "    right = str(right).split(\" \")\n",
    "    if (len(left[0])) >=3:\n",
    "        if left[0][0:3] == right[0][0:3]:\n",
    "            return True\n",
    "        else:\n",
    "            return False\n",
    "    else:\n",
    "        return True\n",
    "    '''\n",
    "    if score < 0.8:\n",
    "        return False\n",
    "    elif len(left) != len(right):\n",
    "        return True\n",
    "    \n",
    "    for word in left.copy():\n",
    "        if word in right:\n",
    "            left.pop(left.index(word))\n",
    "            right.pop(right.index(word))\n",
    "    if len(left) == len(right) and len(left) == 0:\n",
    "        return True\n",
    "    max_check = 1\n",
    "    if len(left[0]) >= 3:\n",
    "        max_check = 3\n",
    "    else:\n",
    "        max_check = len(left[0])\n",
    "    if left[0][0:max_check] == right[0][0:max_check]:\n",
    "        return True\n",
    "    else:\n",
    "        return False\n",
    "    '''"
   ]
  },
  {
   "cell_type": "code",
   "execution_count": 22,
   "metadata": {},
   "outputs": [
    {
     "data": {
      "text/plain": [
       "True"
      ]
     },
     "execution_count": 22,
     "metadata": {},
     "output_type": "execute_result"
    }
   ],
   "source": [
    "is_similar('1800FLOWERS', '1-800-FLOWERS.COM', 0.7)"
   ]
  },
  {
   "cell_type": "code",
   "execution_count": 24,
   "metadata": {},
   "outputs": [
    {
     "name": "stdout",
     "output_type": "stream",
     "text": [
      "SELFTIMED: 4.571101903915405\n"
     ]
    }
   ],
   "source": [
    "t1 = time.time()\n",
    "matches_df['is_similar'] = matches_df.apply(lambda row : is_similar(row.left_side, row.right_side, row.similairity), axis = 1)\n",
    "t = time.time()-t1\n",
    "print(\"SELFTIMED:\", t)"
   ]
  },
  {
   "cell_type": "code",
   "execution_count": 118,
   "metadata": {},
   "outputs": [],
   "source": [
    "#matches_df[matches_df['is_compustat'] == 'False'].head()"
   ]
  },
  {
   "cell_type": "code",
   "execution_count": 27,
   "metadata": {},
   "outputs": [
    {
     "data": {
      "text/html": [
       "<div>\n",
       "<style scoped>\n",
       "    .dataframe tbody tr th:only-of-type {\n",
       "        vertical-align: middle;\n",
       "    }\n",
       "\n",
       "    .dataframe tbody tr th {\n",
       "        vertical-align: top;\n",
       "    }\n",
       "\n",
       "    .dataframe thead th {\n",
       "        text-align: right;\n",
       "    }\n",
       "</style>\n",
       "<table border=\"1\" class=\"dataframe\">\n",
       "  <thead>\n",
       "    <tr style=\"text-align: right;\">\n",
       "      <th></th>\n",
       "      <th>left_side</th>\n",
       "      <th>right_side</th>\n",
       "      <th>similairity</th>\n",
       "      <th>is_similar</th>\n",
       "      <th>is_compustat</th>\n",
       "    </tr>\n",
       "  </thead>\n",
       "  <tbody>\n",
       "    <tr>\n",
       "      <th>0</th>\n",
       "      <td>aar corp</td>\n",
       "      <td>aar corp</td>\n",
       "      <td>1.000000</td>\n",
       "      <td>True</td>\n",
       "      <td>True</td>\n",
       "    </tr>\n",
       "    <tr>\n",
       "      <th>1</th>\n",
       "      <td>american airlines group inc</td>\n",
       "      <td>american airlines group, inc</td>\n",
       "      <td>1.000000</td>\n",
       "      <td>True</td>\n",
       "      <td>True</td>\n",
       "    </tr>\n",
       "    <tr>\n",
       "      <th>2</th>\n",
       "      <td>american airlines group inc</td>\n",
       "      <td>american airlines group inc</td>\n",
       "      <td>1.000000</td>\n",
       "      <td>True</td>\n",
       "      <td>True</td>\n",
       "    </tr>\n",
       "    <tr>\n",
       "      <th>3</th>\n",
       "      <td>american airlines group inc</td>\n",
       "      <td>american airlines group</td>\n",
       "      <td>0.928566</td>\n",
       "      <td>True</td>\n",
       "      <td>True</td>\n",
       "    </tr>\n",
       "    <tr>\n",
       "      <th>4</th>\n",
       "      <td>american airlines group inc</td>\n",
       "      <td>american airlines, inc</td>\n",
       "      <td>0.801991</td>\n",
       "      <td>True</td>\n",
       "      <td>True</td>\n",
       "    </tr>\n",
       "  </tbody>\n",
       "</table>\n",
       "</div>"
      ],
      "text/plain": [
       "                     left_side                    right_side  similairity  \\\n",
       "0  aar corp                     aar corp                      1.000000      \n",
       "1  american airlines group inc  american airlines group, inc  1.000000      \n",
       "2  american airlines group inc  american airlines group inc   1.000000      \n",
       "3  american airlines group inc  american airlines group       0.928566      \n",
       "4  american airlines group inc  american airlines, inc        0.801991      \n",
       "\n",
       "   is_similar  is_compustat  \n",
       "0  True        True          \n",
       "1  True        True          \n",
       "2  True        True          \n",
       "3  True        True          \n",
       "4  True        True          "
      ]
     },
     "execution_count": 27,
     "metadata": {},
     "output_type": "execute_result"
    }
   ],
   "source": [
    "matches_df.head()"
   ]
  },
  {
   "cell_type": "code",
   "execution_count": 123,
   "metadata": {},
   "outputs": [],
   "source": [
    "matches_df.to_csv('matches_fda_compustat.csv')"
   ]
  },
  {
   "cell_type": "code",
   "execution_count": 61,
   "metadata": {},
   "outputs": [
    {
     "data": {
      "text/plain": [
       "True"
      ]
     },
     "execution_count": 61,
     "metadata": {},
     "output_type": "execute_result"
    }
   ],
   "source": [
    "'american airlines group inc' in compustat_firm_names['Company Name'].tolist()"
   ]
  },
  {
   "cell_type": "code",
   "execution_count": 29,
   "metadata": {},
   "outputs": [
    {
     "data": {
      "text/plain": [
       "True"
      ]
     },
     "execution_count": 29,
     "metadata": {},
     "output_type": "execute_result"
    }
   ],
   "source": [
    "'ABBOTT LABORATORY' in df_fda_firms['Legal Name'].tolist()"
   ]
  },
  {
   "cell_type": "markdown",
   "metadata": {},
   "source": [
    "## writing new logic to filter out the firm names"
   ]
  },
  {
   "cell_type": "code",
   "execution_count": 81,
   "metadata": {},
   "outputs": [],
   "source": [
    "#matches_df['is_import_export'] = matches_df.apply(lambda row : row.left_side in df1['US Company Name'].tolist(), axis = 1 )"
   ]
  },
  {
   "cell_type": "code",
   "execution_count": 26,
   "metadata": {},
   "outputs": [
    {
     "name": "stdout",
     "output_type": "stream",
     "text": [
      "SELFTIMED: 45.57412123680115\n"
     ]
    }
   ],
   "source": [
    "t1 = time.time()\n",
    "matches_df['is_compustat'] = matches_df.apply(lambda row : row.left_side in df_compustat['Company Name'].tolist(), axis = 1 )\n",
    "t = time.time()-t1\n",
    "print(\"SELFTIMED:\", t)"
   ]
  },
  {
   "cell_type": "code",
   "execution_count": 66,
   "metadata": {},
   "outputs": [
    {
     "ename": "KeyboardInterrupt",
     "evalue": "",
     "output_type": "error",
     "traceback": [
      "\u001b[0;31m---------------------------------------------------------------------------\u001b[0m",
      "\u001b[0;31mKeyboardInterrupt\u001b[0m                         Traceback (most recent call last)",
      "Input \u001b[0;32mIn [66]\u001b[0m, in \u001b[0;36m<cell line: 2>\u001b[0;34m()\u001b[0m\n\u001b[1;32m      1\u001b[0m t1 \u001b[38;5;241m=\u001b[39m time\u001b[38;5;241m.\u001b[39mtime()\n\u001b[0;32m----> 2\u001b[0m matches_df[\u001b[38;5;124m'\u001b[39m\u001b[38;5;124mis_fda_left\u001b[39m\u001b[38;5;124m'\u001b[39m] \u001b[38;5;241m=\u001b[39m \u001b[43mmatches_df\u001b[49m\u001b[38;5;241;43m.\u001b[39;49m\u001b[43mapply\u001b[49m\u001b[43m(\u001b[49m\u001b[38;5;28;43;01mlambda\u001b[39;49;00m\u001b[43m \u001b[49m\u001b[43mrow\u001b[49m\u001b[43m \u001b[49m\u001b[43m:\u001b[49m\u001b[43m \u001b[49m\u001b[43mrow\u001b[49m\u001b[38;5;241;43m.\u001b[39;49m\u001b[43mleft_side\u001b[49m\u001b[43m \u001b[49m\u001b[38;5;129;43;01min\u001b[39;49;00m\u001b[43m \u001b[49m\u001b[43mdf_fda_firms\u001b[49m\u001b[43m[\u001b[49m\u001b[38;5;124;43m'\u001b[39;49m\u001b[38;5;124;43mLegal Name\u001b[39;49m\u001b[38;5;124;43m'\u001b[39;49m\u001b[43m]\u001b[49m\u001b[38;5;241;43m.\u001b[39;49m\u001b[43mtolist\u001b[49m\u001b[43m(\u001b[49m\u001b[43m)\u001b[49m\u001b[43m,\u001b[49m\u001b[43m \u001b[49m\u001b[43maxis\u001b[49m\u001b[43m \u001b[49m\u001b[38;5;241;43m=\u001b[39;49m\u001b[43m \u001b[49m\u001b[38;5;241;43m1\u001b[39;49m\u001b[43m \u001b[49m\u001b[43m)\u001b[49m\n\u001b[1;32m      3\u001b[0m t \u001b[38;5;241m=\u001b[39m time\u001b[38;5;241m.\u001b[39mtime()\u001b[38;5;241m-\u001b[39mt1\n\u001b[1;32m      4\u001b[0m \u001b[38;5;28mprint\u001b[39m(\u001b[38;5;124m\"\u001b[39m\u001b[38;5;124mSELFTIMED:\u001b[39m\u001b[38;5;124m\"\u001b[39m, t)\n",
      "File \u001b[0;32m/opt/anaconda3/lib/python3.9/site-packages/pandas/core/frame.py:8839\u001b[0m, in \u001b[0;36mDataFrame.apply\u001b[0;34m(self, func, axis, raw, result_type, args, **kwargs)\u001b[0m\n\u001b[1;32m   8828\u001b[0m \u001b[38;5;28;01mfrom\u001b[39;00m \u001b[38;5;21;01mpandas\u001b[39;00m\u001b[38;5;21;01m.\u001b[39;00m\u001b[38;5;21;01mcore\u001b[39;00m\u001b[38;5;21;01m.\u001b[39;00m\u001b[38;5;21;01mapply\u001b[39;00m \u001b[38;5;28;01mimport\u001b[39;00m frame_apply\n\u001b[1;32m   8830\u001b[0m op \u001b[38;5;241m=\u001b[39m frame_apply(\n\u001b[1;32m   8831\u001b[0m     \u001b[38;5;28mself\u001b[39m,\n\u001b[1;32m   8832\u001b[0m     func\u001b[38;5;241m=\u001b[39mfunc,\n\u001b[0;32m   (...)\u001b[0m\n\u001b[1;32m   8837\u001b[0m     kwargs\u001b[38;5;241m=\u001b[39mkwargs,\n\u001b[1;32m   8838\u001b[0m )\n\u001b[0;32m-> 8839\u001b[0m \u001b[38;5;28;01mreturn\u001b[39;00m \u001b[43mop\u001b[49m\u001b[38;5;241;43m.\u001b[39;49m\u001b[43mapply\u001b[49m\u001b[43m(\u001b[49m\u001b[43m)\u001b[49m\u001b[38;5;241m.\u001b[39m__finalize__(\u001b[38;5;28mself\u001b[39m, method\u001b[38;5;241m=\u001b[39m\u001b[38;5;124m\"\u001b[39m\u001b[38;5;124mapply\u001b[39m\u001b[38;5;124m\"\u001b[39m)\n",
      "File \u001b[0;32m/opt/anaconda3/lib/python3.9/site-packages/pandas/core/apply.py:727\u001b[0m, in \u001b[0;36mFrameApply.apply\u001b[0;34m(self)\u001b[0m\n\u001b[1;32m    724\u001b[0m \u001b[38;5;28;01melif\u001b[39;00m \u001b[38;5;28mself\u001b[39m\u001b[38;5;241m.\u001b[39mraw:\n\u001b[1;32m    725\u001b[0m     \u001b[38;5;28;01mreturn\u001b[39;00m \u001b[38;5;28mself\u001b[39m\u001b[38;5;241m.\u001b[39mapply_raw()\n\u001b[0;32m--> 727\u001b[0m \u001b[38;5;28;01mreturn\u001b[39;00m \u001b[38;5;28;43mself\u001b[39;49m\u001b[38;5;241;43m.\u001b[39;49m\u001b[43mapply_standard\u001b[49m\u001b[43m(\u001b[49m\u001b[43m)\u001b[49m\n",
      "File \u001b[0;32m/opt/anaconda3/lib/python3.9/site-packages/pandas/core/apply.py:851\u001b[0m, in \u001b[0;36mFrameApply.apply_standard\u001b[0;34m(self)\u001b[0m\n\u001b[1;32m    850\u001b[0m \u001b[38;5;28;01mdef\u001b[39;00m \u001b[38;5;21mapply_standard\u001b[39m(\u001b[38;5;28mself\u001b[39m):\n\u001b[0;32m--> 851\u001b[0m     results, res_index \u001b[38;5;241m=\u001b[39m \u001b[38;5;28;43mself\u001b[39;49m\u001b[38;5;241;43m.\u001b[39;49m\u001b[43mapply_series_generator\u001b[49m\u001b[43m(\u001b[49m\u001b[43m)\u001b[49m\n\u001b[1;32m    853\u001b[0m     \u001b[38;5;66;03m# wrap results\u001b[39;00m\n\u001b[1;32m    854\u001b[0m     \u001b[38;5;28;01mreturn\u001b[39;00m \u001b[38;5;28mself\u001b[39m\u001b[38;5;241m.\u001b[39mwrap_results(results, res_index)\n",
      "File \u001b[0;32m/opt/anaconda3/lib/python3.9/site-packages/pandas/core/apply.py:867\u001b[0m, in \u001b[0;36mFrameApply.apply_series_generator\u001b[0;34m(self)\u001b[0m\n\u001b[1;32m    864\u001b[0m \u001b[38;5;28;01mwith\u001b[39;00m option_context(\u001b[38;5;124m\"\u001b[39m\u001b[38;5;124mmode.chained_assignment\u001b[39m\u001b[38;5;124m\"\u001b[39m, \u001b[38;5;28;01mNone\u001b[39;00m):\n\u001b[1;32m    865\u001b[0m     \u001b[38;5;28;01mfor\u001b[39;00m i, v \u001b[38;5;129;01min\u001b[39;00m \u001b[38;5;28menumerate\u001b[39m(series_gen):\n\u001b[1;32m    866\u001b[0m         \u001b[38;5;66;03m# ignore SettingWithCopy here in case the user mutates\u001b[39;00m\n\u001b[0;32m--> 867\u001b[0m         results[i] \u001b[38;5;241m=\u001b[39m \u001b[38;5;28;43mself\u001b[39;49m\u001b[38;5;241;43m.\u001b[39;49m\u001b[43mf\u001b[49m\u001b[43m(\u001b[49m\u001b[43mv\u001b[49m\u001b[43m)\u001b[49m\n\u001b[1;32m    868\u001b[0m         \u001b[38;5;28;01mif\u001b[39;00m \u001b[38;5;28misinstance\u001b[39m(results[i], ABCSeries):\n\u001b[1;32m    869\u001b[0m             \u001b[38;5;66;03m# If we have a view on v, we need to make a copy because\u001b[39;00m\n\u001b[1;32m    870\u001b[0m             \u001b[38;5;66;03m#  series_generator will swap out the underlying data\u001b[39;00m\n\u001b[1;32m    871\u001b[0m             results[i] \u001b[38;5;241m=\u001b[39m results[i]\u001b[38;5;241m.\u001b[39mcopy(deep\u001b[38;5;241m=\u001b[39m\u001b[38;5;28;01mFalse\u001b[39;00m)\n",
      "\u001b[0;31mKeyboardInterrupt\u001b[0m: "
     ]
    }
   ],
   "source": [
    "t1 = time.time()\n",
    "matches_df['is_fda_left'] = matches_df.apply(lambda row : row.left_side in df_fda_firms['Legal Name'].tolist(), axis = 1 )\n",
    "t = time.time()-t1\n",
    "print(\"SELFTIMED:\", t)"
   ]
  },
  {
   "cell_type": "code",
   "execution_count": null,
   "metadata": {},
   "outputs": [],
   "source": [
    "t1 = time.time()\n",
    "matches_df['is_fda_right'] = matches_df.apply(lambda row : row.right_side in df_fda_firms['Legal Name'].tolist(), axis = 1 )\n",
    "t = time.time()-t1\n",
    "print(\"SELFTIMED:\", t)"
   ]
  },
  {
   "cell_type": "code",
   "execution_count": 28,
   "metadata": {},
   "outputs": [
    {
     "name": "stdout",
     "output_type": "stream",
     "text": [
      "SELFTIMED: 112.46582007408142\n"
     ]
    }
   ],
   "source": [
    "t1 = time.time()\n",
    "matches_df['different_database'] = matches_df.apply(lambda row : row.left_side in df_compustat['Company Name'].tolist() and row.right_side in df_fda_firms['Legal Name'].tolist(), axis = 1)\n",
    "t = time.time()-t1\n",
    "print(\"SELFTIMED:\", t)"
   ]
  },
  {
   "cell_type": "code",
   "execution_count": 55,
   "metadata": {},
   "outputs": [
    {
     "data": {
      "text/plain": [
       "(287187, 6)"
      ]
     },
     "execution_count": 55,
     "metadata": {},
     "output_type": "execute_result"
    }
   ],
   "source": [
    "actual_match = matches_df.drop_duplicates(subset='left_side', keep=\"first\")"
   ]
  },
  {
   "cell_type": "code",
   "execution_count": 31,
   "metadata": {},
   "outputs": [
    {
     "data": {
      "text/plain": [
       "(2617, 6)"
      ]
     },
     "execution_count": 31,
     "metadata": {},
     "output_type": "execute_result"
    }
   ],
   "source": [
    "matches_df[(matches_df.is_compustat == True) & (matches_df.different_database == True)].shape"
   ]
  },
  {
   "cell_type": "code",
   "execution_count": 102,
   "metadata": {},
   "outputs": [
    {
     "data": {
      "text/html": [
       "<div>\n",
       "<style scoped>\n",
       "    .dataframe tbody tr th:only-of-type {\n",
       "        vertical-align: middle;\n",
       "    }\n",
       "\n",
       "    .dataframe tbody tr th {\n",
       "        vertical-align: top;\n",
       "    }\n",
       "\n",
       "    .dataframe thead th {\n",
       "        text-align: right;\n",
       "    }\n",
       "</style>\n",
       "<table border=\"1\" class=\"dataframe\">\n",
       "  <thead>\n",
       "    <tr style=\"text-align: right;\">\n",
       "      <th></th>\n",
       "      <th>left_side</th>\n",
       "      <th>right_side</th>\n",
       "      <th>similairity</th>\n",
       "      <th>is_similar</th>\n",
       "      <th>is_compustat</th>\n",
       "      <th>different_database</th>\n",
       "    </tr>\n",
       "  </thead>\n",
       "  <tbody>\n",
       "    <tr>\n",
       "      <th>7585</th>\n",
       "      <td>eisai co ltd</td>\n",
       "      <td>eisai co ltd</td>\n",
       "      <td>1.0</td>\n",
       "      <td>True</td>\n",
       "      <td>True</td>\n",
       "      <td>True</td>\n",
       "    </tr>\n",
       "    <tr>\n",
       "      <th>7586</th>\n",
       "      <td>eisai co ltd</td>\n",
       "      <td>eisai co., ltd.</td>\n",
       "      <td>1.0</td>\n",
       "      <td>True</td>\n",
       "      <td>True</td>\n",
       "      <td>True</td>\n",
       "    </tr>\n",
       "  </tbody>\n",
       "</table>\n",
       "</div>"
      ],
      "text/plain": [
       "         left_side       right_side  similairity  is_similar  is_compustat  \\\n",
       "7585  eisai co ltd  eisai co ltd     1.0          True        True           \n",
       "7586  eisai co ltd  eisai co., ltd.  1.0          True        True           \n",
       "\n",
       "      different_database  \n",
       "7585  True                \n",
       "7586  True                "
      ]
     },
     "execution_count": 102,
     "metadata": {},
     "output_type": "execute_result"
    }
   ],
   "source": [
    "matches_df[matches_df.left_side == 'eisai co ltd'].drop_duplicates()"
   ]
  },
  {
   "cell_type": "code",
   "execution_count": 32,
   "metadata": {},
   "outputs": [],
   "source": [
    "actual_match = matches_df[(matches_df.is_compustat == True) & (matches_df.different_database == True)].drop_duplicates(subset='left_side', keep=\"first\")"
   ]
  },
  {
   "cell_type": "code",
   "execution_count": 103,
   "metadata": {},
   "outputs": [],
   "source": [
    "actual_match1 = matches_df[(matches_df.is_compustat == True) & (matches_df.different_database == True) & (matches_df.is_similar == True)].drop_duplicates(subset='left_side', keep=\"first\")"
   ]
  },
  {
   "cell_type": "code",
   "execution_count": 104,
   "metadata": {},
   "outputs": [
    {
     "data": {
      "text/plain": [
       "(864, 6)"
      ]
     },
     "execution_count": 104,
     "metadata": {},
     "output_type": "execute_result"
    }
   ],
   "source": [
    "actual_match1.shape"
   ]
  },
  {
   "cell_type": "code",
   "execution_count": 40,
   "metadata": {},
   "outputs": [],
   "source": [
    "#matches_df[matches_df.different_database == True].shape"
   ]
  },
  {
   "cell_type": "code",
   "execution_count": 34,
   "metadata": {},
   "outputs": [],
   "source": [
    "#actual_temp = matches_df.loc[(matches_df.is_compustat == True)].drop_duplicates(subset='right_side', keep=\"first\")"
   ]
  },
  {
   "cell_type": "code",
   "execution_count": 39,
   "metadata": {},
   "outputs": [],
   "source": [
    "#actual_temp.loc[(matches_df.different_database == True)].shape"
   ]
  },
  {
   "cell_type": "code",
   "execution_count": 38,
   "metadata": {},
   "outputs": [],
   "source": [
    "#actual_temp.head()"
   ]
  },
  {
   "cell_type": "code",
   "execution_count": 137,
   "metadata": {},
   "outputs": [],
   "source": [
    "#actual_matches = matches_df.loc[(matches_df.is_compustat == True) & (matches_df.different_database == True)]"
   ]
  },
  {
   "cell_type": "code",
   "execution_count": 139,
   "metadata": {},
   "outputs": [
    {
     "data": {
      "text/plain": [
       "(523, 6)"
      ]
     },
     "execution_count": 139,
     "metadata": {},
     "output_type": "execute_result"
    }
   ],
   "source": [
    "#actual_matches.shape"
   ]
  },
  {
   "cell_type": "code",
   "execution_count": 140,
   "metadata": {},
   "outputs": [
    {
     "name": "stderr",
     "output_type": "stream",
     "text": [
      "/var/folders/tn/k31185892wl6cj_lpfjjr2wc0000gn/T/ipykernel_17072/3249037189.py:1: SettingWithCopyWarning: \n",
      "A value is trying to be set on a copy of a slice from a DataFrame\n",
      "\n",
      "See the caveats in the documentation: https://pandas.pydata.org/pandas-docs/stable/user_guide/indexing.html#returning-a-view-versus-a-copy\n",
      "  actual_matches.drop_duplicates(inplace = True)\n"
     ]
    }
   ],
   "source": [
    "#actual_matches.drop_duplicates(inplace = True)"
   ]
  },
  {
   "cell_type": "code",
   "execution_count": 41,
   "metadata": {},
   "outputs": [],
   "source": [
    "#actual_match.shape"
   ]
  },
  {
   "cell_type": "code",
   "execution_count": 42,
   "metadata": {},
   "outputs": [],
   "source": [
    "#temp = matches_df.loc[(matches_df.is_compustat == True)]"
   ]
  },
  {
   "cell_type": "code",
   "execution_count": 43,
   "metadata": {},
   "outputs": [],
   "source": [
    "#temp.drop_duplicates(inplace = True)"
   ]
  },
  {
   "cell_type": "code",
   "execution_count": 44,
   "metadata": {},
   "outputs": [],
   "source": [
    "#temp.shape"
   ]
  },
  {
   "cell_type": "code",
   "execution_count": 49,
   "metadata": {},
   "outputs": [],
   "source": [
    "#matches_df.drop('is_import_export', axis=1, inplace=True)"
   ]
  },
  {
   "cell_type": "code",
   "execution_count": 45,
   "metadata": {},
   "outputs": [],
   "source": [
    "#matches_df.shape"
   ]
  },
  {
   "cell_type": "code",
   "execution_count": 46,
   "metadata": {},
   "outputs": [],
   "source": [
    "#matches_df.drop_duplicates(inplace = True)"
   ]
  },
  {
   "cell_type": "markdown",
   "metadata": {},
   "source": [
    "## New code"
   ]
  },
  {
   "cell_type": "code",
   "execution_count": 94,
   "metadata": {},
   "outputs": [
    {
     "data": {
      "text/html": [
       "<div>\n",
       "<style scoped>\n",
       "    .dataframe tbody tr th:only-of-type {\n",
       "        vertical-align: middle;\n",
       "    }\n",
       "\n",
       "    .dataframe tbody tr th {\n",
       "        vertical-align: top;\n",
       "    }\n",
       "\n",
       "    .dataframe thead th {\n",
       "        text-align: right;\n",
       "    }\n",
       "</style>\n",
       "<table border=\"1\" class=\"dataframe\">\n",
       "  <thead>\n",
       "    <tr style=\"text-align: right;\">\n",
       "      <th></th>\n",
       "      <th>left_side</th>\n",
       "      <th>right_side</th>\n",
       "      <th>similairity</th>\n",
       "      <th>is_similar</th>\n",
       "      <th>is_compustat</th>\n",
       "      <th>different_database</th>\n",
       "    </tr>\n",
       "  </thead>\n",
       "  <tbody>\n",
       "    <tr>\n",
       "      <th>1</th>\n",
       "      <td>american airlines group inc</td>\n",
       "      <td>american airlines group, inc</td>\n",
       "      <td>1.000000</td>\n",
       "      <td>True</td>\n",
       "      <td>True</td>\n",
       "      <td>True</td>\n",
       "    </tr>\n",
       "    <tr>\n",
       "      <th>13</th>\n",
       "      <td>abbott laboratories</td>\n",
       "      <td>abbott laboratories</td>\n",
       "      <td>1.000000</td>\n",
       "      <td>True</td>\n",
       "      <td>True</td>\n",
       "      <td>True</td>\n",
       "    </tr>\n",
       "    <tr>\n",
       "      <th>26</th>\n",
       "      <td>acme united corp</td>\n",
       "      <td>acme united corporation</td>\n",
       "      <td>0.899275</td>\n",
       "      <td>True</td>\n",
       "      <td>True</td>\n",
       "      <td>True</td>\n",
       "    </tr>\n",
       "    <tr>\n",
       "      <th>33</th>\n",
       "      <td>air products &amp; chemicals inc</td>\n",
       "      <td>air products &amp; chemicals, inc</td>\n",
       "      <td>1.000000</td>\n",
       "      <td>True</td>\n",
       "      <td>True</td>\n",
       "      <td>True</td>\n",
       "    </tr>\n",
       "    <tr>\n",
       "      <th>47</th>\n",
       "      <td>petro usa inc</td>\n",
       "      <td>petro usa</td>\n",
       "      <td>0.876356</td>\n",
       "      <td>True</td>\n",
       "      <td>True</td>\n",
       "      <td>True</td>\n",
       "    </tr>\n",
       "    <tr>\n",
       "      <th>...</th>\n",
       "      <td>...</td>\n",
       "      <td>...</td>\n",
       "      <td>...</td>\n",
       "      <td>...</td>\n",
       "      <td>...</td>\n",
       "      <td>...</td>\n",
       "    </tr>\n",
       "    <tr>\n",
       "      <th>11347</th>\n",
       "      <td>banco santander brasil  -adr</td>\n",
       "      <td>banco santander brasil</td>\n",
       "      <td>0.841037</td>\n",
       "      <td>True</td>\n",
       "      <td>True</td>\n",
       "      <td>True</td>\n",
       "    </tr>\n",
       "    <tr>\n",
       "      <th>11350</th>\n",
       "      <td>valneva se</td>\n",
       "      <td>valneva</td>\n",
       "      <td>0.836074</td>\n",
       "      <td>True</td>\n",
       "      <td>True</td>\n",
       "      <td>True</td>\n",
       "    </tr>\n",
       "    <tr>\n",
       "      <th>11353</th>\n",
       "      <td>kamada ltd</td>\n",
       "      <td>kamada ltd.</td>\n",
       "      <td>1.000000</td>\n",
       "      <td>True</td>\n",
       "      <td>True</td>\n",
       "      <td>True</td>\n",
       "    </tr>\n",
       "    <tr>\n",
       "      <th>11371</th>\n",
       "      <td>cnh industrial nv</td>\n",
       "      <td>cnh industrial</td>\n",
       "      <td>0.839784</td>\n",
       "      <td>True</td>\n",
       "      <td>True</td>\n",
       "      <td>True</td>\n",
       "    </tr>\n",
       "    <tr>\n",
       "      <th>11390</th>\n",
       "      <td>taiwan liposome co ltd</td>\n",
       "      <td>taiwan liposome co</td>\n",
       "      <td>0.974512</td>\n",
       "      <td>True</td>\n",
       "      <td>True</td>\n",
       "      <td>True</td>\n",
       "    </tr>\n",
       "  </tbody>\n",
       "</table>\n",
       "<p>926 rows × 6 columns</p>\n",
       "</div>"
      ],
      "text/plain": [
       "                          left_side                     right_side  \\\n",
       "1      american airlines group inc   american airlines group, inc    \n",
       "13     abbott laboratories           abbott laboratories             \n",
       "26     acme united corp              acme united corporation         \n",
       "33     air products & chemicals inc  air products & chemicals, inc   \n",
       "47     petro usa inc                 petro usa                       \n",
       "...              ...                       ...                       \n",
       "11347  banco santander brasil  -adr  banco santander brasil          \n",
       "11350  valneva se                    valneva                         \n",
       "11353  kamada ltd                    kamada ltd.                     \n",
       "11371  cnh industrial nv             cnh industrial                  \n",
       "11390  taiwan liposome co ltd        taiwan liposome co              \n",
       "\n",
       "       similairity  is_similar  is_compustat  different_database  \n",
       "1      1.000000     True        True          True                \n",
       "13     1.000000     True        True          True                \n",
       "26     0.899275     True        True          True                \n",
       "33     1.000000     True        True          True                \n",
       "47     0.876356     True        True          True                \n",
       "...         ...      ...         ...           ...                \n",
       "11347  0.841037     True        True          True                \n",
       "11350  0.836074     True        True          True                \n",
       "11353  1.000000     True        True          True                \n",
       "11371  0.839784     True        True          True                \n",
       "11390  0.974512     True        True          True                \n",
       "\n",
       "[926 rows x 6 columns]"
      ]
     },
     "execution_count": 94,
     "metadata": {},
     "output_type": "execute_result"
    }
   ],
   "source": [
    "actual_match"
   ]
  },
  {
   "cell_type": "code",
   "execution_count": 96,
   "metadata": {},
   "outputs": [
    {
     "data": {
      "text/plain": [
       "(863, 6)"
      ]
     },
     "execution_count": 96,
     "metadata": {},
     "output_type": "execute_result"
    }
   ],
   "source": [
    "actual_match[actual_match.is_similar == True and actual_match.right_side].shape"
   ]
  },
  {
   "cell_type": "code",
   "execution_count": 99,
   "metadata": {},
   "outputs": [
    {
     "data": {
      "text/html": [
       "<div>\n",
       "<style scoped>\n",
       "    .dataframe tbody tr th:only-of-type {\n",
       "        vertical-align: middle;\n",
       "    }\n",
       "\n",
       "    .dataframe tbody tr th {\n",
       "        vertical-align: top;\n",
       "    }\n",
       "\n",
       "    .dataframe thead th {\n",
       "        text-align: right;\n",
       "    }\n",
       "</style>\n",
       "<table border=\"1\" class=\"dataframe\">\n",
       "  <thead>\n",
       "    <tr style=\"text-align: right;\">\n",
       "      <th></th>\n",
       "      <th>left_side</th>\n",
       "      <th>right_side</th>\n",
       "      <th>similairity</th>\n",
       "      <th>is_similar</th>\n",
       "      <th>is_compustat</th>\n",
       "      <th>different_database</th>\n",
       "    </tr>\n",
       "  </thead>\n",
       "  <tbody>\n",
       "    <tr>\n",
       "      <th>10956</th>\n",
       "      <td>tilly's inc</td>\n",
       "      <td>willy's inc</td>\n",
       "      <td>0.860486</td>\n",
       "      <td>False</td>\n",
       "      <td>True</td>\n",
       "      <td>True</td>\n",
       "    </tr>\n",
       "  </tbody>\n",
       "</table>\n",
       "</div>"
      ],
      "text/plain": [
       "         left_side   right_side  similairity  is_similar  is_compustat  \\\n",
       "10956  tilly's inc  willy's inc  0.860486     False       True           \n",
       "\n",
       "       different_database  \n",
       "10956  True                "
      ]
     },
     "execution_count": 99,
     "metadata": {},
     "output_type": "execute_result"
    }
   ],
   "source": [
    "actual_match[actual_match.left_side == \"tilly's inc\"]"
   ]
  },
  {
   "cell_type": "code",
   "execution_count": 67,
   "metadata": {},
   "outputs": [
    {
     "data": {
      "text/plain": [
       "'petro usa'"
      ]
     },
     "execution_count": 67,
     "metadata": {},
     "output_type": "execute_result"
    }
   ],
   "source": [
    "actual_match[actual_match.left_side  == 'petro usa inc'].right_side.values[0]"
   ]
  },
  {
   "cell_type": "code",
   "execution_count": 69,
   "metadata": {},
   "outputs": [
    {
     "data": {
      "text/plain": [
       "(9456, 15)"
      ]
     },
     "execution_count": 69,
     "metadata": {},
     "output_type": "execute_result"
    }
   ],
   "source": [
    "df_compustat.shape"
   ]
  },
  {
   "cell_type": "code",
   "execution_count": 115,
   "metadata": {},
   "outputs": [
    {
     "data": {
      "text/html": [
       "<div>\n",
       "<style scoped>\n",
       "    .dataframe tbody tr th:only-of-type {\n",
       "        vertical-align: middle;\n",
       "    }\n",
       "\n",
       "    .dataframe tbody tr th {\n",
       "        vertical-align: top;\n",
       "    }\n",
       "\n",
       "    .dataframe thead th {\n",
       "        text-align: right;\n",
       "    }\n",
       "</style>\n",
       "<table border=\"1\" class=\"dataframe\">\n",
       "  <thead>\n",
       "    <tr style=\"text-align: right;\">\n",
       "      <th></th>\n",
       "      <th>Global Company Key</th>\n",
       "      <th>Ticker Symbol</th>\n",
       "      <th>CUSIP</th>\n",
       "      <th>Company Name</th>\n",
       "      <th>FDA DB</th>\n",
       "      <th>FEI Number</th>\n",
       "      <th>Project Area</th>\n",
       "      <th>Product Type</th>\n",
       "      <th>Product code</th>\n",
       "      <th>NAICS code</th>\n",
       "      <th>NAICS description</th>\n",
       "      <th>FSMA firms</th>\n",
       "      <th>FDA but not FSMA</th>\n",
       "      <th>CPSC firms</th>\n",
       "      <th>NHTSA firms</th>\n",
       "    </tr>\n",
       "  </thead>\n",
       "  <tbody>\n",
       "    <tr>\n",
       "      <th>0</th>\n",
       "      <td>1004</td>\n",
       "      <td>AIR</td>\n",
       "      <td>000361105</td>\n",
       "      <td>aar corp</td>\n",
       "      <td>NA</td>\n",
       "      <td>NaN</td>\n",
       "      <td>NaN</td>\n",
       "      <td>NaN</td>\n",
       "      <td>NaN</td>\n",
       "      <td>423860.0</td>\n",
       "      <td>Transportation Equipment and Supplies (except Motor Vehicle) Merchant Wholesalers</td>\n",
       "      <td>NaN</td>\n",
       "      <td>NaN</td>\n",
       "      <td>NaN</td>\n",
       "      <td>NaN</td>\n",
       "    </tr>\n",
       "    <tr>\n",
       "      <th>1</th>\n",
       "      <td>1045</td>\n",
       "      <td>AAL</td>\n",
       "      <td>02376R102</td>\n",
       "      <td>american airlines group inc</td>\n",
       "      <td>american airlines group, inc</td>\n",
       "      <td>NaN</td>\n",
       "      <td>NaN</td>\n",
       "      <td>NaN</td>\n",
       "      <td>NaN</td>\n",
       "      <td>481111.0</td>\n",
       "      <td>Scheduled Passenger Air Transportation</td>\n",
       "      <td>NaN</td>\n",
       "      <td>NaN</td>\n",
       "      <td>NaN</td>\n",
       "      <td>NaN</td>\n",
       "    </tr>\n",
       "    <tr>\n",
       "      <th>2</th>\n",
       "      <td>1050</td>\n",
       "      <td>CECO</td>\n",
       "      <td>125141101</td>\n",
       "      <td>ceco environmental corp</td>\n",
       "      <td>NA</td>\n",
       "      <td>NaN</td>\n",
       "      <td>NaN</td>\n",
       "      <td>NaN</td>\n",
       "      <td>NaN</td>\n",
       "      <td>333413.0</td>\n",
       "      <td>Industrial and Commercial Fan and Blower and Air Purification Equipment Manufacturing</td>\n",
       "      <td>NaN</td>\n",
       "      <td>NaN</td>\n",
       "      <td>NaN</td>\n",
       "      <td>NaN</td>\n",
       "    </tr>\n",
       "    <tr>\n",
       "      <th>3</th>\n",
       "      <td>1062</td>\n",
       "      <td>ASA</td>\n",
       "      <td>G3156P103</td>\n",
       "      <td>asa gold and precious metals</td>\n",
       "      <td>NA</td>\n",
       "      <td>NaN</td>\n",
       "      <td>NaN</td>\n",
       "      <td>NaN</td>\n",
       "      <td>NaN</td>\n",
       "      <td>523999.0</td>\n",
       "      <td>Miscellaneous Financial Investment Activities</td>\n",
       "      <td>NaN</td>\n",
       "      <td>NaN</td>\n",
       "      <td>NaN</td>\n",
       "      <td>NaN</td>\n",
       "    </tr>\n",
       "    <tr>\n",
       "      <th>4</th>\n",
       "      <td>1075</td>\n",
       "      <td>PNW</td>\n",
       "      <td>723484101</td>\n",
       "      <td>pinnacle west capital corp</td>\n",
       "      <td>NA</td>\n",
       "      <td>NaN</td>\n",
       "      <td>NaN</td>\n",
       "      <td>NaN</td>\n",
       "      <td>NaN</td>\n",
       "      <td>2211.0</td>\n",
       "      <td>Electric Power Generation, Transmission and DistributionT</td>\n",
       "      <td>NaN</td>\n",
       "      <td>NaN</td>\n",
       "      <td>NaN</td>\n",
       "      <td>NaN</td>\n",
       "    </tr>\n",
       "  </tbody>\n",
       "</table>\n",
       "</div>"
      ],
      "text/plain": [
       "   Global Company Key Ticker Symbol      CUSIP                  Company Name  \\\n",
       "0  1004                AIR           000361105  aar corp                       \n",
       "1  1045                AAL           02376R102  american airlines group inc    \n",
       "2  1050                CECO          125141101  ceco environmental corp        \n",
       "3  1062                ASA           G3156P103  asa gold and precious metals   \n",
       "4  1075                PNW           723484101  pinnacle west capital corp     \n",
       "\n",
       "                         FDA DB  FEI Number  Project Area  Product Type  \\\n",
       "0  NA                           NaN         NaN           NaN             \n",
       "1  american airlines group, inc NaN         NaN           NaN             \n",
       "2  NA                           NaN         NaN           NaN             \n",
       "3  NA                           NaN         NaN           NaN             \n",
       "4  NA                           NaN         NaN           NaN             \n",
       "\n",
       "   Product code  NAICS code  \\\n",
       "0 NaN            423860.0     \n",
       "1 NaN            481111.0     \n",
       "2 NaN            333413.0     \n",
       "3 NaN            523999.0     \n",
       "4 NaN            2211.0       \n",
       "\n",
       "                                                                       NAICS description  \\\n",
       "0  Transportation Equipment and Supplies (except Motor Vehicle) Merchant Wholesalers       \n",
       "1  Scheduled Passenger Air Transportation                                                  \n",
       "2  Industrial and Commercial Fan and Blower and Air Purification Equipment Manufacturing   \n",
       "3  Miscellaneous Financial Investment Activities                                           \n",
       "4  Electric Power Generation, Transmission and DistributionT                               \n",
       "\n",
       "   FSMA firms  FDA but not FSMA  CPSC firms  NHTSA firms  \n",
       "0 NaN         NaN               NaN         NaN           \n",
       "1 NaN         NaN               NaN         NaN           \n",
       "2 NaN         NaN               NaN         NaN           \n",
       "3 NaN         NaN               NaN         NaN           \n",
       "4 NaN         NaN               NaN         NaN           "
      ]
     },
     "execution_count": 115,
     "metadata": {},
     "output_type": "execute_result"
    }
   ],
   "source": [
    "df_compustat.head()"
   ]
  },
  {
   "cell_type": "code",
   "execution_count": 114,
   "metadata": {},
   "outputs": [
    {
     "name": "stdout",
     "output_type": "stream",
     "text": [
      "SELFTIMED: 0.4195568561553955\n"
     ]
    }
   ],
   "source": [
    "t1 = time.time()\n",
    "df_compustat['FDA DB'] = df_compustat.apply(lambda row : actual_match1[actual_match1.left_side  == row['Company Name']].right_side.values[0] if row['Company Name'] in actual_match1.left_side.tolist() else 'NA', axis = 1)\n",
    "t = time.time()-t1\n",
    "print(\"SELFTIMED:\", t)"
   ]
  },
  {
   "cell_type": "code",
   "execution_count": 75,
   "metadata": {},
   "outputs": [
    {
     "data": {
      "text/plain": [
       "1721149"
      ]
     },
     "execution_count": 75,
     "metadata": {},
     "output_type": "execute_result"
    }
   ],
   "source": [
    "df_fda_firms[df_fda_firms['Legal Name'] == 'american airlines group, inc']['FEI Number'].values[0]"
   ]
  },
  {
   "cell_type": "code",
   "execution_count": 116,
   "metadata": {},
   "outputs": [
    {
     "name": "stdout",
     "output_type": "stream",
     "text": [
      "SELFTIMED: 75.74697589874268\n"
     ]
    }
   ],
   "source": [
    "t1 = time.time()\n",
    "df_compustat['FEI Number'] = df_compustat.apply(lambda row : df_fda_firms[df_fda_firms['Legal Name'] == row['FDA DB']]['FEI Number'].values[0] if row['FDA DB'] in df_fda_firms['Legal Name'].tolist() else 'NA', axis = 1)\n",
    "t = time.time()-t1\n",
    "print(\"SELFTIMED:\", t)"
   ]
  },
  {
   "cell_type": "code",
   "execution_count": 117,
   "metadata": {},
   "outputs": [
    {
     "name": "stdout",
     "output_type": "stream",
     "text": [
      "SELFTIMED: 75.69663381576538\n"
     ]
    }
   ],
   "source": [
    "t1 = time.time()\n",
    "df_compustat['Project Area'] = df_compustat.apply(lambda row : df_fda_firms[df_fda_firms['Legal Name'] == row['FDA DB']]['Project Area'].values[0] if row['FDA DB'] in df_fda_firms['Legal Name'].tolist() else 'NA', axis = 1)\n",
    "t = time.time()-t1\n",
    "print(\"SELFTIMED:\", t)"
   ]
  },
  {
   "cell_type": "code",
   "execution_count": 120,
   "metadata": {},
   "outputs": [
    {
     "name": "stdout",
     "output_type": "stream",
     "text": [
      "SELFTIMED: 76.22486782073975\n"
     ]
    }
   ],
   "source": [
    "t1 = time.time()\n",
    "df_compustat['Product Type'] = df_compustat.apply(lambda row : df_fda_firms[df_fda_firms['Legal Name'] == row['FDA DB']]['Product Type'].values[0] if row['FDA DB'] in df_fda_firms['Legal Name'].tolist() else 'NA', axis = 1)\n",
    "t = time.time()-t1\n",
    "print(\"SELFTIMED:\", t)"
   ]
  },
  {
   "cell_type": "code",
   "execution_count": 118,
   "metadata": {},
   "outputs": [
    {
     "name": "stdout",
     "output_type": "stream",
     "text": [
      "SELFTIMED: 75.71704697608948\n"
     ]
    }
   ],
   "source": [
    "t1 = time.time()\n",
    "df_compustat['Product code'] = df_compustat.apply(lambda row : df_fda_firms[df_fda_firms['Legal Name'] == row['FDA DB']]['Product code'].values[0] if row['FDA DB'] in df_fda_firms['Legal Name'].tolist() else 'NA', axis = 1)\n",
    "t = time.time()-t1\n",
    "print(\"SELFTIMED:\", t)"
   ]
  },
  {
   "cell_type": "code",
   "execution_count": 121,
   "metadata": {},
   "outputs": [
    {
     "data": {
      "text/html": [
       "<div>\n",
       "<style scoped>\n",
       "    .dataframe tbody tr th:only-of-type {\n",
       "        vertical-align: middle;\n",
       "    }\n",
       "\n",
       "    .dataframe tbody tr th {\n",
       "        vertical-align: top;\n",
       "    }\n",
       "\n",
       "    .dataframe thead th {\n",
       "        text-align: right;\n",
       "    }\n",
       "</style>\n",
       "<table border=\"1\" class=\"dataframe\">\n",
       "  <thead>\n",
       "    <tr style=\"text-align: right;\">\n",
       "      <th></th>\n",
       "      <th>Global Company Key</th>\n",
       "      <th>Ticker Symbol</th>\n",
       "      <th>CUSIP</th>\n",
       "      <th>Company Name</th>\n",
       "      <th>FDA DB</th>\n",
       "      <th>FEI Number</th>\n",
       "      <th>Project Area</th>\n",
       "      <th>Product Type</th>\n",
       "      <th>Product code</th>\n",
       "      <th>NAICS code</th>\n",
       "      <th>NAICS description</th>\n",
       "      <th>FSMA firms</th>\n",
       "      <th>FDA but not FSMA</th>\n",
       "      <th>CPSC firms</th>\n",
       "      <th>NHTSA firms</th>\n",
       "    </tr>\n",
       "  </thead>\n",
       "  <tbody>\n",
       "    <tr>\n",
       "      <th>0</th>\n",
       "      <td>1004</td>\n",
       "      <td>AIR</td>\n",
       "      <td>000361105</td>\n",
       "      <td>aar corp</td>\n",
       "      <td>NA</td>\n",
       "      <td>NA</td>\n",
       "      <td>NA</td>\n",
       "      <td>NA</td>\n",
       "      <td>NA</td>\n",
       "      <td>423860.0</td>\n",
       "      <td>Transportation Equipment and Supplies (except Motor Vehicle) Merchant Wholesalers</td>\n",
       "      <td>NaN</td>\n",
       "      <td>NaN</td>\n",
       "      <td>NaN</td>\n",
       "      <td>NaN</td>\n",
       "    </tr>\n",
       "    <tr>\n",
       "      <th>1</th>\n",
       "      <td>1045</td>\n",
       "      <td>AAL</td>\n",
       "      <td>02376R102</td>\n",
       "      <td>american airlines group inc</td>\n",
       "      <td>american airlines group, inc</td>\n",
       "      <td>1721149</td>\n",
       "      <td>Technical Assistance: Food and Cosmetics</td>\n",
       "      <td>Food/Cosmetics</td>\n",
       "      <td>NaN</td>\n",
       "      <td>481111.0</td>\n",
       "      <td>Scheduled Passenger Air Transportation</td>\n",
       "      <td>NaN</td>\n",
       "      <td>NaN</td>\n",
       "      <td>NaN</td>\n",
       "      <td>NaN</td>\n",
       "    </tr>\n",
       "    <tr>\n",
       "      <th>2</th>\n",
       "      <td>1050</td>\n",
       "      <td>CECO</td>\n",
       "      <td>125141101</td>\n",
       "      <td>ceco environmental corp</td>\n",
       "      <td>NA</td>\n",
       "      <td>NA</td>\n",
       "      <td>NA</td>\n",
       "      <td>NA</td>\n",
       "      <td>NA</td>\n",
       "      <td>333413.0</td>\n",
       "      <td>Industrial and Commercial Fan and Blower and Air Purification Equipment Manufacturing</td>\n",
       "      <td>NaN</td>\n",
       "      <td>NaN</td>\n",
       "      <td>NaN</td>\n",
       "      <td>NaN</td>\n",
       "    </tr>\n",
       "    <tr>\n",
       "      <th>3</th>\n",
       "      <td>1062</td>\n",
       "      <td>ASA</td>\n",
       "      <td>G3156P103</td>\n",
       "      <td>asa gold and precious metals</td>\n",
       "      <td>NA</td>\n",
       "      <td>NA</td>\n",
       "      <td>NA</td>\n",
       "      <td>NA</td>\n",
       "      <td>NA</td>\n",
       "      <td>523999.0</td>\n",
       "      <td>Miscellaneous Financial Investment Activities</td>\n",
       "      <td>NaN</td>\n",
       "      <td>NaN</td>\n",
       "      <td>NaN</td>\n",
       "      <td>NaN</td>\n",
       "    </tr>\n",
       "    <tr>\n",
       "      <th>4</th>\n",
       "      <td>1075</td>\n",
       "      <td>PNW</td>\n",
       "      <td>723484101</td>\n",
       "      <td>pinnacle west capital corp</td>\n",
       "      <td>NA</td>\n",
       "      <td>NA</td>\n",
       "      <td>NA</td>\n",
       "      <td>NA</td>\n",
       "      <td>NA</td>\n",
       "      <td>2211.0</td>\n",
       "      <td>Electric Power Generation, Transmission and DistributionT</td>\n",
       "      <td>NaN</td>\n",
       "      <td>NaN</td>\n",
       "      <td>NaN</td>\n",
       "      <td>NaN</td>\n",
       "    </tr>\n",
       "  </tbody>\n",
       "</table>\n",
       "</div>"
      ],
      "text/plain": [
       "   Global Company Key Ticker Symbol      CUSIP                  Company Name  \\\n",
       "0  1004                AIR           000361105  aar corp                       \n",
       "1  1045                AAL           02376R102  american airlines group inc    \n",
       "2  1050                CECO          125141101  ceco environmental corp        \n",
       "3  1062                ASA           G3156P103  asa gold and precious metals   \n",
       "4  1075                PNW           723484101  pinnacle west capital corp     \n",
       "\n",
       "                         FDA DB FEI Number  \\\n",
       "0  NA                            NA          \n",
       "1  american airlines group, inc  1721149     \n",
       "2  NA                            NA          \n",
       "3  NA                            NA          \n",
       "4  NA                            NA          \n",
       "\n",
       "                               Project Area    Product Type Product code  \\\n",
       "0  NA                                        NA              NA            \n",
       "1  Technical Assistance: Food and Cosmetics  Food/Cosmetics  NaN           \n",
       "2  NA                                        NA              NA            \n",
       "3  NA                                        NA              NA            \n",
       "4  NA                                        NA              NA            \n",
       "\n",
       "   NAICS code  \\\n",
       "0  423860.0     \n",
       "1  481111.0     \n",
       "2  333413.0     \n",
       "3  523999.0     \n",
       "4  2211.0       \n",
       "\n",
       "                                                                       NAICS description  \\\n",
       "0  Transportation Equipment and Supplies (except Motor Vehicle) Merchant Wholesalers       \n",
       "1  Scheduled Passenger Air Transportation                                                  \n",
       "2  Industrial and Commercial Fan and Blower and Air Purification Equipment Manufacturing   \n",
       "3  Miscellaneous Financial Investment Activities                                           \n",
       "4  Electric Power Generation, Transmission and DistributionT                               \n",
       "\n",
       "   FSMA firms  FDA but not FSMA  CPSC firms  NHTSA firms  \n",
       "0 NaN         NaN               NaN         NaN           \n",
       "1 NaN         NaN               NaN         NaN           \n",
       "2 NaN         NaN               NaN         NaN           \n",
       "3 NaN         NaN               NaN         NaN           \n",
       "4 NaN         NaN               NaN         NaN           "
      ]
     },
     "execution_count": 121,
     "metadata": {},
     "output_type": "execute_result"
    }
   ],
   "source": [
    "df_compustat.head()"
   ]
  },
  {
   "cell_type": "code",
   "execution_count": 122,
   "metadata": {},
   "outputs": [],
   "source": [
    "df_compustat.to_excel('compustat_fda_matches1.xlsx')"
   ]
  },
  {
   "cell_type": "code",
   "execution_count": 87,
   "metadata": {},
   "outputs": [
    {
     "data": {
      "text/html": [
       "<div>\n",
       "<style scoped>\n",
       "    .dataframe tbody tr th:only-of-type {\n",
       "        vertical-align: middle;\n",
       "    }\n",
       "\n",
       "    .dataframe tbody tr th {\n",
       "        vertical-align: top;\n",
       "    }\n",
       "\n",
       "    .dataframe thead th {\n",
       "        text-align: right;\n",
       "    }\n",
       "</style>\n",
       "<table border=\"1\" class=\"dataframe\">\n",
       "  <thead>\n",
       "    <tr style=\"text-align: right;\">\n",
       "      <th></th>\n",
       "      <th>Global Company Key</th>\n",
       "      <th>Ticker Symbol</th>\n",
       "      <th>CUSIP</th>\n",
       "      <th>Company Name</th>\n",
       "      <th>FDA DB</th>\n",
       "      <th>FEI Number</th>\n",
       "      <th>Project Area</th>\n",
       "      <th>Product Type</th>\n",
       "      <th>Product code</th>\n",
       "      <th>NAICS code</th>\n",
       "      <th>NAICS description</th>\n",
       "      <th>FSMA firms</th>\n",
       "      <th>FDA but not FSMA</th>\n",
       "      <th>CPSC firms</th>\n",
       "      <th>NHTSA firms</th>\n",
       "    </tr>\n",
       "  </thead>\n",
       "  <tbody>\n",
       "    <tr>\n",
       "      <th>26</th>\n",
       "      <td>1272</td>\n",
       "      <td>PBAJ</td>\n",
       "      <td>71648P103</td>\n",
       "      <td>petro usa inc</td>\n",
       "      <td>petro usa</td>\n",
       "      <td>3010889567</td>\n",
       "      <td>Tobacco</td>\n",
       "      <td>Tobacco</td>\n",
       "      <td>NaN</td>\n",
       "      <td>447110.0</td>\n",
       "      <td>Gasoline Stations with Convenience Stores</td>\n",
       "      <td>NaN</td>\n",
       "      <td>NaN</td>\n",
       "      <td>NaN</td>\n",
       "      <td>NaN</td>\n",
       "    </tr>\n",
       "  </tbody>\n",
       "</table>\n",
       "</div>"
      ],
      "text/plain": [
       "    Global Company Key Ticker Symbol      CUSIP   Company Name     FDA DB  \\\n",
       "26  1272                PBAJ          71648P103  petro usa inc  petro usa   \n",
       "\n",
       "    FEI Number Project Area Product Type Product code  NAICS code  \\\n",
       "26  3010889567  Tobacco      Tobacco      NaN          447110.0     \n",
       "\n",
       "                             NAICS description  FSMA firms  FDA but not FSMA  \\\n",
       "26  Gasoline Stations with Convenience Stores  NaN         NaN                 \n",
       "\n",
       "    CPSC firms  NHTSA firms  \n",
       "26 NaN         NaN           "
      ]
     },
     "execution_count": 87,
     "metadata": {},
     "output_type": "execute_result"
    }
   ],
   "source": [
    "df_compustat[df_compustat['Company Name'] == 'petro usa inc']"
   ]
  },
  {
   "cell_type": "code",
   "execution_count": 92,
   "metadata": {},
   "outputs": [
    {
     "data": {
      "text/html": [
       "<div>\n",
       "<style scoped>\n",
       "    .dataframe tbody tr th:only-of-type {\n",
       "        vertical-align: middle;\n",
       "    }\n",
       "\n",
       "    .dataframe tbody tr th {\n",
       "        vertical-align: top;\n",
       "    }\n",
       "\n",
       "    .dataframe thead th {\n",
       "        text-align: right;\n",
       "    }\n",
       "</style>\n",
       "<table border=\"1\" class=\"dataframe\">\n",
       "  <thead>\n",
       "    <tr style=\"text-align: right;\">\n",
       "      <th></th>\n",
       "      <th>Global Company Key</th>\n",
       "      <th>Ticker Symbol</th>\n",
       "      <th>CUSIP</th>\n",
       "      <th>Company Name</th>\n",
       "      <th>FDA DB</th>\n",
       "      <th>FEI Number</th>\n",
       "      <th>Project Area</th>\n",
       "      <th>Product Type</th>\n",
       "      <th>Product code</th>\n",
       "      <th>NAICS code</th>\n",
       "      <th>NAICS description</th>\n",
       "      <th>FSMA firms</th>\n",
       "      <th>FDA but not FSMA</th>\n",
       "      <th>CPSC firms</th>\n",
       "      <th>NHTSA firms</th>\n",
       "    </tr>\n",
       "  </thead>\n",
       "  <tbody>\n",
       "    <tr>\n",
       "      <th>6080</th>\n",
       "      <td>100418</td>\n",
       "      <td>ESALY</td>\n",
       "      <td>282579309</td>\n",
       "      <td>eisai co ltd</td>\n",
       "      <td>eisai co ltd</td>\n",
       "      <td>1000608517</td>\n",
       "      <td>NaN</td>\n",
       "      <td>NaN</td>\n",
       "      <td>16YGH07 \\ FISH MAW, FISHERY PRODUCTS, N.E.C.</td>\n",
       "      <td>325412.0</td>\n",
       "      <td>Pharmaceutical Preparation Manufacturing</td>\n",
       "      <td>NaN</td>\n",
       "      <td>1.0</td>\n",
       "      <td>NaN</td>\n",
       "      <td>NaN</td>\n",
       "    </tr>\n",
       "  </tbody>\n",
       "</table>\n",
       "</div>"
      ],
      "text/plain": [
       "      Global Company Key Ticker Symbol      CUSIP  Company Name        FDA DB  \\\n",
       "6080  100418              ESALY         282579309  eisai co ltd  eisai co ltd   \n",
       "\n",
       "      FEI Number Project Area Product Type  \\\n",
       "6080  1000608517  NaN          NaN           \n",
       "\n",
       "                                      Product code  NAICS code  \\\n",
       "6080  16YGH07 \\ FISH MAW, FISHERY PRODUCTS, N.E.C.  325412.0     \n",
       "\n",
       "                             NAICS description  FSMA firms  FDA but not FSMA  \\\n",
       "6080  Pharmaceutical Preparation Manufacturing NaN          1.0                \n",
       "\n",
       "      CPSC firms  NHTSA firms  \n",
       "6080 NaN         NaN           "
      ]
     },
     "execution_count": 92,
     "metadata": {},
     "output_type": "execute_result"
    }
   ],
   "source": [
    "df_compustat[df_compustat['Company Name'] == 'eisai co ltd']"
   ]
  },
  {
   "cell_type": "code",
   "execution_count": 63,
   "metadata": {},
   "outputs": [
    {
     "data": {
      "text/html": [
       "<div>\n",
       "<style scoped>\n",
       "    .dataframe tbody tr th:only-of-type {\n",
       "        vertical-align: middle;\n",
       "    }\n",
       "\n",
       "    .dataframe tbody tr th {\n",
       "        vertical-align: top;\n",
       "    }\n",
       "\n",
       "    .dataframe thead th {\n",
       "        text-align: right;\n",
       "    }\n",
       "</style>\n",
       "<table border=\"1\" class=\"dataframe\">\n",
       "  <thead>\n",
       "    <tr style=\"text-align: right;\">\n",
       "      <th></th>\n",
       "      <th>Global Company Key</th>\n",
       "      <th>Ticker Symbol</th>\n",
       "      <th>CUSIP</th>\n",
       "      <th>Company Name</th>\n",
       "      <th>FDA DB</th>\n",
       "      <th>FEI Number</th>\n",
       "      <th>Project Area</th>\n",
       "      <th>Product Type</th>\n",
       "      <th>Product code</th>\n",
       "      <th>NAICS code</th>\n",
       "      <th>NAICS description</th>\n",
       "      <th>FSMA firms</th>\n",
       "      <th>FDA but not FSMA</th>\n",
       "      <th>CPSC firms</th>\n",
       "      <th>NHTSA firms</th>\n",
       "    </tr>\n",
       "  </thead>\n",
       "  <tbody>\n",
       "    <tr>\n",
       "      <th>0</th>\n",
       "      <td>1004</td>\n",
       "      <td>AIR</td>\n",
       "      <td>000361105</td>\n",
       "      <td>AAR CORP</td>\n",
       "      <td>AAR CORP</td>\n",
       "      <td>NaN</td>\n",
       "      <td>NaN</td>\n",
       "      <td>NaN</td>\n",
       "      <td>NaN</td>\n",
       "      <td>423860.0</td>\n",
       "      <td>Transportation Equipment and Supplies (except Motor Vehicle) Merchant Wholesalers</td>\n",
       "      <td>NaN</td>\n",
       "      <td>NaN</td>\n",
       "      <td>NaN</td>\n",
       "      <td>NaN</td>\n",
       "    </tr>\n",
       "    <tr>\n",
       "      <th>1</th>\n",
       "      <td>1045</td>\n",
       "      <td>AAL</td>\n",
       "      <td>02376R102</td>\n",
       "      <td>AMERICAN AIRLINES GROUP INC</td>\n",
       "      <td>AMERICAN AIRLINES GROUP INC</td>\n",
       "      <td>NaN</td>\n",
       "      <td>NaN</td>\n",
       "      <td>NaN</td>\n",
       "      <td>NaN</td>\n",
       "      <td>481111.0</td>\n",
       "      <td>Scheduled Passenger Air Transportation</td>\n",
       "      <td>NaN</td>\n",
       "      <td>NaN</td>\n",
       "      <td>NaN</td>\n",
       "      <td>NaN</td>\n",
       "    </tr>\n",
       "    <tr>\n",
       "      <th>2</th>\n",
       "      <td>1050</td>\n",
       "      <td>CECO</td>\n",
       "      <td>125141101</td>\n",
       "      <td>CECO ENVIRONMENTAL CORP</td>\n",
       "      <td>CECO ENVIRONMENTAL CORP</td>\n",
       "      <td>NaN</td>\n",
       "      <td>NaN</td>\n",
       "      <td>NaN</td>\n",
       "      <td>NaN</td>\n",
       "      <td>333413.0</td>\n",
       "      <td>Industrial and Commercial Fan and Blower and Air Purification Equipment Manufacturing</td>\n",
       "      <td>NaN</td>\n",
       "      <td>NaN</td>\n",
       "      <td>NaN</td>\n",
       "      <td>NaN</td>\n",
       "    </tr>\n",
       "    <tr>\n",
       "      <th>3</th>\n",
       "      <td>1062</td>\n",
       "      <td>ASA</td>\n",
       "      <td>G3156P103</td>\n",
       "      <td>ASA GOLD AND PRECIOUS METALS</td>\n",
       "      <td>ASA GOLD AND PRECIOUS METALS</td>\n",
       "      <td>NaN</td>\n",
       "      <td>NaN</td>\n",
       "      <td>NaN</td>\n",
       "      <td>NaN</td>\n",
       "      <td>523999.0</td>\n",
       "      <td>Miscellaneous Financial Investment Activities</td>\n",
       "      <td>NaN</td>\n",
       "      <td>NaN</td>\n",
       "      <td>NaN</td>\n",
       "      <td>NaN</td>\n",
       "    </tr>\n",
       "    <tr>\n",
       "      <th>4</th>\n",
       "      <td>1075</td>\n",
       "      <td>PNW</td>\n",
       "      <td>723484101</td>\n",
       "      <td>PINNACLE WEST CAPITAL CORP</td>\n",
       "      <td>PINNACLE WEST CAPITAL CORP</td>\n",
       "      <td>NaN</td>\n",
       "      <td>NaN</td>\n",
       "      <td>NaN</td>\n",
       "      <td>NaN</td>\n",
       "      <td>2211.0</td>\n",
       "      <td>Electric Power Generation, Transmission and DistributionT</td>\n",
       "      <td>NaN</td>\n",
       "      <td>NaN</td>\n",
       "      <td>NaN</td>\n",
       "      <td>NaN</td>\n",
       "    </tr>\n",
       "    <tr>\n",
       "      <th>5</th>\n",
       "      <td>1076</td>\n",
       "      <td>PRG</td>\n",
       "      <td>74319R101</td>\n",
       "      <td>PROG HOLDINGS INC</td>\n",
       "      <td>PROG HOLDINGS INC</td>\n",
       "      <td>NaN</td>\n",
       "      <td>NaN</td>\n",
       "      <td>NaN</td>\n",
       "      <td>NaN</td>\n",
       "      <td>522220.0</td>\n",
       "      <td>Sales Financing</td>\n",
       "      <td>NaN</td>\n",
       "      <td>NaN</td>\n",
       "      <td>NaN</td>\n",
       "      <td>NaN</td>\n",
       "    </tr>\n",
       "    <tr>\n",
       "      <th>6</th>\n",
       "      <td>1078</td>\n",
       "      <td>ABT</td>\n",
       "      <td>002824100</td>\n",
       "      <td>ABBOTT LABORATORIES</td>\n",
       "      <td>ABBOTT LABORATORIES</td>\n",
       "      <td>NaN</td>\n",
       "      <td>NaN</td>\n",
       "      <td>NaN</td>\n",
       "      <td>NaN</td>\n",
       "      <td>334510.0</td>\n",
       "      <td>Electromedical and Electrotherapeutic Apparatus Manufacturing</td>\n",
       "      <td>NaN</td>\n",
       "      <td>1.0</td>\n",
       "      <td>NaN</td>\n",
       "      <td>NaN</td>\n",
       "    </tr>\n",
       "    <tr>\n",
       "      <th>7</th>\n",
       "      <td>1084</td>\n",
       "      <td>WDDD</td>\n",
       "      <td>98159J200</td>\n",
       "      <td>WORLDS INC</td>\n",
       "      <td>WORLDS INC</td>\n",
       "      <td>NaN</td>\n",
       "      <td>NaN</td>\n",
       "      <td>NaN</td>\n",
       "      <td>NaN</td>\n",
       "      <td>519130.0</td>\n",
       "      <td>Internet Publishing and Broadcasting and Web Search Portals</td>\n",
       "      <td>NaN</td>\n",
       "      <td>NaN</td>\n",
       "      <td>NaN</td>\n",
       "      <td>NaN</td>\n",
       "    </tr>\n",
       "    <tr>\n",
       "      <th>8</th>\n",
       "      <td>1097</td>\n",
       "      <td>ACMTA</td>\n",
       "      <td>004616207</td>\n",
       "      <td>ACMAT CORP  -CL A</td>\n",
       "      <td>ACMAT CORP  -CL A</td>\n",
       "      <td>NaN</td>\n",
       "      <td>NaN</td>\n",
       "      <td>NaN</td>\n",
       "      <td>NaN</td>\n",
       "      <td>524126.0</td>\n",
       "      <td>Direct Property and Casualty Insurance Carriers</td>\n",
       "      <td>NaN</td>\n",
       "      <td>NaN</td>\n",
       "      <td>NaN</td>\n",
       "      <td>NaN</td>\n",
       "    </tr>\n",
       "    <tr>\n",
       "      <th>9</th>\n",
       "      <td>1104</td>\n",
       "      <td>ACU</td>\n",
       "      <td>004816104</td>\n",
       "      <td>ACME UNITED CORP</td>\n",
       "      <td>ACME UNITED CORP</td>\n",
       "      <td>NaN</td>\n",
       "      <td>NaN</td>\n",
       "      <td>NaN</td>\n",
       "      <td>NaN</td>\n",
       "      <td>332215.0</td>\n",
       "      <td>Metal Kitchen Cookware, Utensil, Cutlery, and Flatware (except Precious) Manufacturing</td>\n",
       "      <td>NaN</td>\n",
       "      <td>NaN</td>\n",
       "      <td>1.0</td>\n",
       "      <td>NaN</td>\n",
       "    </tr>\n",
       "  </tbody>\n",
       "</table>\n",
       "</div>"
      ],
      "text/plain": [
       "   Global Company Key Ticker Symbol      CUSIP                  Company Name  \\\n",
       "0  1004                AIR           000361105  AAR CORP                       \n",
       "1  1045                AAL           02376R102  AMERICAN AIRLINES GROUP INC    \n",
       "2  1050                CECO          125141101  CECO ENVIRONMENTAL CORP        \n",
       "3  1062                ASA           G3156P103  ASA GOLD AND PRECIOUS METALS   \n",
       "4  1075                PNW           723484101  PINNACLE WEST CAPITAL CORP     \n",
       "5  1076                PRG           74319R101  PROG HOLDINGS INC              \n",
       "6  1078                ABT           002824100  ABBOTT LABORATORIES            \n",
       "7  1084                WDDD          98159J200  WORLDS INC                     \n",
       "8  1097                ACMTA         004616207  ACMAT CORP  -CL A              \n",
       "9  1104                ACU           004816104  ACME UNITED CORP               \n",
       "\n",
       "                         FDA DB  FEI Number  Project Area  Product Type  \\\n",
       "0  AAR CORP                     NaN         NaN           NaN             \n",
       "1  AMERICAN AIRLINES GROUP INC  NaN         NaN           NaN             \n",
       "2  CECO ENVIRONMENTAL CORP      NaN         NaN           NaN             \n",
       "3  ASA GOLD AND PRECIOUS METALS NaN         NaN           NaN             \n",
       "4  PINNACLE WEST CAPITAL CORP   NaN         NaN           NaN             \n",
       "5  PROG HOLDINGS INC            NaN         NaN           NaN             \n",
       "6  ABBOTT LABORATORIES          NaN         NaN           NaN             \n",
       "7  WORLDS INC                   NaN         NaN           NaN             \n",
       "8  ACMAT CORP  -CL A            NaN         NaN           NaN             \n",
       "9  ACME UNITED CORP             NaN         NaN           NaN             \n",
       "\n",
       "   Product code  NAICS code  \\\n",
       "0 NaN            423860.0     \n",
       "1 NaN            481111.0     \n",
       "2 NaN            333413.0     \n",
       "3 NaN            523999.0     \n",
       "4 NaN            2211.0       \n",
       "5 NaN            522220.0     \n",
       "6 NaN            334510.0     \n",
       "7 NaN            519130.0     \n",
       "8 NaN            524126.0     \n",
       "9 NaN            332215.0     \n",
       "\n",
       "                                                                        NAICS description  \\\n",
       "0  Transportation Equipment and Supplies (except Motor Vehicle) Merchant Wholesalers        \n",
       "1  Scheduled Passenger Air Transportation                                                   \n",
       "2  Industrial and Commercial Fan and Blower and Air Purification Equipment Manufacturing    \n",
       "3  Miscellaneous Financial Investment Activities                                            \n",
       "4  Electric Power Generation, Transmission and DistributionT                                \n",
       "5  Sales Financing                                                                          \n",
       "6  Electromedical and Electrotherapeutic Apparatus Manufacturing                            \n",
       "7  Internet Publishing and Broadcasting and Web Search Portals                              \n",
       "8  Direct Property and Casualty Insurance Carriers                                          \n",
       "9  Metal Kitchen Cookware, Utensil, Cutlery, and Flatware (except Precious) Manufacturing   \n",
       "\n",
       "   FSMA firms  FDA but not FSMA  CPSC firms  NHTSA firms  \n",
       "0 NaN         NaN               NaN         NaN           \n",
       "1 NaN         NaN               NaN         NaN           \n",
       "2 NaN         NaN               NaN         NaN           \n",
       "3 NaN         NaN               NaN         NaN           \n",
       "4 NaN         NaN               NaN         NaN           \n",
       "5 NaN         NaN               NaN         NaN           \n",
       "6 NaN          1.0              NaN         NaN           \n",
       "7 NaN         NaN               NaN         NaN           \n",
       "8 NaN         NaN               NaN         NaN           \n",
       "9 NaN         NaN                1.0        NaN           "
      ]
     },
     "execution_count": 63,
     "metadata": {},
     "output_type": "execute_result"
    }
   ],
   "source": [
    "df_compustat.head(10)"
   ]
  },
  {
   "cell_type": "code",
   "execution_count": 89,
   "metadata": {},
   "outputs": [],
   "source": [
    "matches_df.to_csv('matches13.csv')"
   ]
  },
  {
   "cell_type": "code",
   "execution_count": 59,
   "metadata": {},
   "outputs": [
    {
     "data": {
      "text/plain": [
       "False"
      ]
     },
     "execution_count": 59,
     "metadata": {},
     "output_type": "execute_result"
    }
   ],
   "source": [
    "'CATERPILLAR INC' in df1['US Company Name'].tolist()"
   ]
  },
  {
   "cell_type": "code",
   "execution_count": 63,
   "metadata": {},
   "outputs": [],
   "source": [
    "# checking the firms which are not matching with the second database"
   ]
  },
  {
   "cell_type": "code",
   "execution_count": 66,
   "metadata": {},
   "outputs": [],
   "source": [
    "df_unmatch_firms = df1[df1.apply(lambda row : row['US Company Name'] not in matches_df.left_side.tolist(), axis = 1)]"
   ]
  },
  {
   "cell_type": "code",
   "execution_count": 67,
   "metadata": {},
   "outputs": [
    {
     "data": {
      "text/plain": [
       "(1541, 6)"
      ]
     },
     "execution_count": 67,
     "metadata": {},
     "output_type": "execute_result"
    }
   ],
   "source": [
    "df_unmatch_firms.shape"
   ]
  },
  {
   "cell_type": "code",
   "execution_count": 68,
   "metadata": {},
   "outputs": [],
   "source": [
    "df_unmatch_firms.to_csv('unmatched_firms.csv')"
   ]
  },
  {
   "cell_type": "code",
   "execution_count": 105,
   "metadata": {},
   "outputs": [
    {
     "data": {
      "text/plain": [
       "'AIR'"
      ]
     },
     "execution_count": 105,
     "metadata": {},
     "output_type": "execute_result"
    }
   ],
   "source": [
    "compustate_df[compustate_df['Company Name']  == 'AAR CORP']['Ticker Symbol'].values[0]"
   ]
  },
  {
   "cell_type": "code",
   "execution_count": null,
   "metadata": {},
   "outputs": [],
   "source": [
    "# 371 firms present on compustat\n",
    "# 1571 firms not matching\n",
    "# 7492"
   ]
  },
  {
   "cell_type": "code",
   "execution_count": 98,
   "metadata": {},
   "outputs": [
    {
     "data": {
      "text/html": [
       "<div>\n",
       "<style scoped>\n",
       "    .dataframe tbody tr th:only-of-type {\n",
       "        vertical-align: middle;\n",
       "    }\n",
       "\n",
       "    .dataframe tbody tr th {\n",
       "        vertical-align: top;\n",
       "    }\n",
       "\n",
       "    .dataframe thead th {\n",
       "        text-align: right;\n",
       "    }\n",
       "</style>\n",
       "<table border=\"1\" class=\"dataframe\">\n",
       "  <thead>\n",
       "    <tr style=\"text-align: right;\">\n",
       "      <th></th>\n",
       "      <th>left_side</th>\n",
       "      <th>right_side</th>\n",
       "      <th>similairity</th>\n",
       "      <th>is_similar</th>\n",
       "      <th>different_database</th>\n",
       "      <th>is_compustat</th>\n",
       "      <th>is_import_export</th>\n",
       "    </tr>\n",
       "  </thead>\n",
       "  <tbody>\n",
       "    <tr>\n",
       "      <th>0</th>\n",
       "      <td>OVERSEAS FORWARDING</td>\n",
       "      <td>OVERSEAS FORWARDING</td>\n",
       "      <td>1.0</td>\n",
       "      <td>True</td>\n",
       "      <td>False</td>\n",
       "      <td>False</td>\n",
       "      <td>True</td>\n",
       "    </tr>\n",
       "    <tr>\n",
       "      <th>1</th>\n",
       "      <td>BOSTON HIDES AND FURS</td>\n",
       "      <td>BOSTON HIDES AND FURS</td>\n",
       "      <td>1.0</td>\n",
       "      <td>True</td>\n",
       "      <td>False</td>\n",
       "      <td>False</td>\n",
       "      <td>True</td>\n",
       "    </tr>\n",
       "    <tr>\n",
       "      <th>2</th>\n",
       "      <td>EXPEDITORS INTERNATIONAL</td>\n",
       "      <td>EXPEDITORS INTERNATIONAL</td>\n",
       "      <td>1.0</td>\n",
       "      <td>True</td>\n",
       "      <td>False</td>\n",
       "      <td>False</td>\n",
       "      <td>True</td>\n",
       "    </tr>\n",
       "    <tr>\n",
       "      <th>3</th>\n",
       "      <td>SEA SHIPPING LINE</td>\n",
       "      <td>SEA SHIPPING LINE</td>\n",
       "      <td>1.0</td>\n",
       "      <td>True</td>\n",
       "      <td>False</td>\n",
       "      <td>False</td>\n",
       "      <td>True</td>\n",
       "    </tr>\n",
       "    <tr>\n",
       "      <th>4</th>\n",
       "      <td>SHIPCO TRANSPORT</td>\n",
       "      <td>SHIPCO TRANSPORT</td>\n",
       "      <td>1.0</td>\n",
       "      <td>True</td>\n",
       "      <td>False</td>\n",
       "      <td>False</td>\n",
       "      <td>True</td>\n",
       "    </tr>\n",
       "  </tbody>\n",
       "</table>\n",
       "</div>"
      ],
      "text/plain": [
       "                  left_side                right_side  similairity  \\\n",
       "0  OVERSEAS FORWARDING       OVERSEAS FORWARDING       1.0           \n",
       "1  BOSTON HIDES AND FURS     BOSTON HIDES AND FURS     1.0           \n",
       "2  EXPEDITORS INTERNATIONAL  EXPEDITORS INTERNATIONAL  1.0           \n",
       "3  SEA SHIPPING LINE         SEA SHIPPING LINE         1.0           \n",
       "4  SHIPCO TRANSPORT          SHIPCO TRANSPORT          1.0           \n",
       "\n",
       "   is_similar  different_database  is_compustat  is_import_export  \n",
       "0  True        False               False         True              \n",
       "1  True        False               False         True              \n",
       "2  True        False               False         True              \n",
       "3  True        False               False         True              \n",
       "4  True        False               False         True              "
      ]
     },
     "execution_count": 98,
     "metadata": {},
     "output_type": "execute_result"
    }
   ],
   "source": [
    "matches_df.head()"
   ]
  },
  {
   "cell_type": "code",
   "execution_count": 106,
   "metadata": {},
   "outputs": [],
   "source": [
    "matches_df['Ticker'] = matches_df.apply(lambda row : compustate_df[compustate_df['Company Name']  == row.right_side]['Ticker Symbol'].values[0] if row.right_side in compustate_df['Company Name'].tolist() else 'FALSE', axis = 1)"
   ]
  },
  {
   "cell_type": "code",
   "execution_count": 108,
   "metadata": {},
   "outputs": [],
   "source": [
    "matches_df['NAICC'] = matches_df.apply(lambda row : compustate_df[compustate_df['Company Name']  == row.right_side]['North American Industry Classification Code'].values[0] if row.right_side in compustate_df['Company Name'].tolist() else 'FALSE', axis = 1)"
   ]
  },
  {
   "cell_type": "code",
   "execution_count": 109,
   "metadata": {},
   "outputs": [
    {
     "data": {
      "text/html": [
       "<div>\n",
       "<style scoped>\n",
       "    .dataframe tbody tr th:only-of-type {\n",
       "        vertical-align: middle;\n",
       "    }\n",
       "\n",
       "    .dataframe tbody tr th {\n",
       "        vertical-align: top;\n",
       "    }\n",
       "\n",
       "    .dataframe thead th {\n",
       "        text-align: right;\n",
       "    }\n",
       "</style>\n",
       "<table border=\"1\" class=\"dataframe\">\n",
       "  <thead>\n",
       "    <tr style=\"text-align: right;\">\n",
       "      <th></th>\n",
       "      <th>left_side</th>\n",
       "      <th>right_side</th>\n",
       "      <th>similairity</th>\n",
       "      <th>is_similar</th>\n",
       "      <th>different_database</th>\n",
       "      <th>is_compustat</th>\n",
       "      <th>is_import_export</th>\n",
       "      <th>Ticker</th>\n",
       "      <th>NAICC</th>\n",
       "    </tr>\n",
       "  </thead>\n",
       "  <tbody>\n",
       "    <tr>\n",
       "      <th>57</th>\n",
       "      <td>CATERPILLAR</td>\n",
       "      <td>CATERPILLAR INC</td>\n",
       "      <td>0.876564</td>\n",
       "      <td>True</td>\n",
       "      <td>True</td>\n",
       "      <td>True</td>\n",
       "      <td>True</td>\n",
       "      <td>CAT</td>\n",
       "      <td>333120.0</td>\n",
       "    </tr>\n",
       "    <tr>\n",
       "      <th>86</th>\n",
       "      <td>CH ROBINSON WORLDWIDE</td>\n",
       "      <td>C H ROBINSON WORLDWIDE INC</td>\n",
       "      <td>0.802611</td>\n",
       "      <td>True</td>\n",
       "      <td>True</td>\n",
       "      <td>True</td>\n",
       "      <td>True</td>\n",
       "      <td>CHRW</td>\n",
       "      <td>484121.0</td>\n",
       "    </tr>\n",
       "    <tr>\n",
       "      <th>94</th>\n",
       "      <td>WHIRLPOOL</td>\n",
       "      <td>WHIRLPOOL CORP</td>\n",
       "      <td>0.846576</td>\n",
       "      <td>True</td>\n",
       "      <td>True</td>\n",
       "      <td>True</td>\n",
       "      <td>True</td>\n",
       "      <td>WHR</td>\n",
       "      <td>3352.0</td>\n",
       "    </tr>\n",
       "    <tr>\n",
       "      <th>106</th>\n",
       "      <td>HANESBRANDS</td>\n",
       "      <td>HANESBRANDS INC</td>\n",
       "      <td>0.892917</td>\n",
       "      <td>True</td>\n",
       "      <td>True</td>\n",
       "      <td>True</td>\n",
       "      <td>True</td>\n",
       "      <td>HBI</td>\n",
       "      <td>315.0</td>\n",
       "    </tr>\n",
       "    <tr>\n",
       "      <th>141</th>\n",
       "      <td>FORD MOTOR</td>\n",
       "      <td>FORD MOTOR CO</td>\n",
       "      <td>0.845800</td>\n",
       "      <td>True</td>\n",
       "      <td>True</td>\n",
       "      <td>True</td>\n",
       "      <td>True</td>\n",
       "      <td>F</td>\n",
       "      <td>33611.0</td>\n",
       "    </tr>\n",
       "  </tbody>\n",
       "</table>\n",
       "</div>"
      ],
      "text/plain": [
       "                 left_side                  right_side  similairity  \\\n",
       "57   CATERPILLAR            CATERPILLAR INC             0.876564      \n",
       "86   CH ROBINSON WORLDWIDE  C H ROBINSON WORLDWIDE INC  0.802611      \n",
       "94   WHIRLPOOL              WHIRLPOOL CORP              0.846576      \n",
       "106  HANESBRANDS            HANESBRANDS INC             0.892917      \n",
       "141  FORD MOTOR             FORD MOTOR CO               0.845800      \n",
       "\n",
       "     is_similar  different_database  is_compustat  is_import_export Ticker  \\\n",
       "57   True        True                True          True              CAT     \n",
       "86   True        True                True          True              CHRW    \n",
       "94   True        True                True          True              WHR     \n",
       "106  True        True                True          True              HBI     \n",
       "141  True        True                True          True              F       \n",
       "\n",
       "        NAICC  \n",
       "57   333120.0  \n",
       "86   484121.0  \n",
       "94   3352.0    \n",
       "106  315.0     \n",
       "141  33611.0   "
      ]
     },
     "execution_count": 109,
     "metadata": {},
     "output_type": "execute_result"
    }
   ],
   "source": [
    "matches_df[matches_df.different_database == True].head()"
   ]
  },
  {
   "cell_type": "code",
   "execution_count": 113,
   "metadata": {},
   "outputs": [
    {
     "data": {
      "text/html": [
       "<div>\n",
       "<style scoped>\n",
       "    .dataframe tbody tr th:only-of-type {\n",
       "        vertical-align: middle;\n",
       "    }\n",
       "\n",
       "    .dataframe tbody tr th {\n",
       "        vertical-align: top;\n",
       "    }\n",
       "\n",
       "    .dataframe thead th {\n",
       "        text-align: right;\n",
       "    }\n",
       "</style>\n",
       "<table border=\"1\" class=\"dataframe\">\n",
       "  <thead>\n",
       "    <tr style=\"text-align: right;\">\n",
       "      <th></th>\n",
       "      <th>Company Name</th>\n",
       "      <th>ID</th>\n",
       "    </tr>\n",
       "  </thead>\n",
       "  <tbody>\n",
       "    <tr>\n",
       "      <th>0</th>\n",
       "      <td>CARDINAL HEALTH</td>\n",
       "      <td>775</td>\n",
       "    </tr>\n",
       "    <tr>\n",
       "      <th>1</th>\n",
       "      <td>PRICESMART</td>\n",
       "      <td>3778</td>\n",
       "    </tr>\n",
       "    <tr>\n",
       "      <th>2</th>\n",
       "      <td>AKZO NOBEL</td>\n",
       "      <td>129</td>\n",
       "    </tr>\n",
       "    <tr>\n",
       "      <th>3</th>\n",
       "      <td>3M</td>\n",
       "      <td>7</td>\n",
       "    </tr>\n",
       "    <tr>\n",
       "      <th>4</th>\n",
       "      <td>WOLVERINE WORLD WIDE</td>\n",
       "      <td>5224</td>\n",
       "    </tr>\n",
       "  </tbody>\n",
       "</table>\n",
       "</div>"
      ],
      "text/plain": [
       "           Company Name    ID\n",
       "0  CARDINAL HEALTH       775 \n",
       "1  PRICESMART            3778\n",
       "2  AKZO NOBEL            129 \n",
       "3  3M                    7   \n",
       "4  WOLVERINE WORLD WIDE  5224"
      ]
     },
     "execution_count": 113,
     "metadata": {},
     "output_type": "execute_result"
    }
   ],
   "source": [
    "results_df = pd.read_excel('/Users/friday/Library/CloudStorage/OneDrive-Personal/Documents/MS/UMCP/RA/Assignment-1_Matching-_two_dbs/Datasets/results_from_code.xlsx')\n",
    "results_df.head()"
   ]
  },
  {
   "cell_type": "code",
   "execution_count": 114,
   "metadata": {},
   "outputs": [
    {
     "data": {
      "text/html": [
       "<div>\n",
       "<style scoped>\n",
       "    .dataframe tbody tr th:only-of-type {\n",
       "        vertical-align: middle;\n",
       "    }\n",
       "\n",
       "    .dataframe tbody tr th {\n",
       "        vertical-align: top;\n",
       "    }\n",
       "\n",
       "    .dataframe thead th {\n",
       "        text-align: right;\n",
       "    }\n",
       "</style>\n",
       "<table border=\"1\" class=\"dataframe\">\n",
       "  <thead>\n",
       "    <tr style=\"text-align: right;\">\n",
       "      <th></th>\n",
       "      <th>Compnay Name</th>\n",
       "      <th>ID</th>\n",
       "    </tr>\n",
       "  </thead>\n",
       "  <tbody>\n",
       "    <tr>\n",
       "      <th>0</th>\n",
       "      <td>1-800-FLOWERS.COM</td>\n",
       "      <td>0</td>\n",
       "    </tr>\n",
       "    <tr>\n",
       "      <th>1</th>\n",
       "      <td>180 DEGREE CPTL CORP</td>\n",
       "      <td>1</td>\n",
       "    </tr>\n",
       "    <tr>\n",
       "      <th>2</th>\n",
       "      <td>1PM INDUSTRIES INC</td>\n",
       "      <td>2</td>\n",
       "    </tr>\n",
       "    <tr>\n",
       "      <th>3</th>\n",
       "      <td>1ST SOURCE CORP</td>\n",
       "      <td>3</td>\n",
       "    </tr>\n",
       "    <tr>\n",
       "      <th>4</th>\n",
       "      <td>360 SECURITY TECHNOLOGY INC</td>\n",
       "      <td>4</td>\n",
       "    </tr>\n",
       "  </tbody>\n",
       "</table>\n",
       "</div>"
      ],
      "text/plain": [
       "                  Compnay Name  ID\n",
       "0  1-800-FLOWERS.COM            0 \n",
       "1  180 DEGREE CPTL CORP         1 \n",
       "2  1PM INDUSTRIES INC           2 \n",
       "3  1ST SOURCE CORP              3 \n",
       "4  360 SECURITY TECHNOLOGY INC  4 "
      ]
     },
     "execution_count": 114,
     "metadata": {},
     "output_type": "execute_result"
    }
   ],
   "source": [
    "compustat_id_df = pd.read_excel('/Users/friday/Library/CloudStorage/OneDrive-Personal/Documents/MS/UMCP/RA/Assignment-1_Matching-_two_dbs/Datasets/firmsWithID.xlsx')\n",
    "compustat_id_df.head()"
   ]
  },
  {
   "cell_type": "code",
   "execution_count": 127,
   "metadata": {},
   "outputs": [
    {
     "data": {
      "text/plain": [
       "'CARDINAL HEALTH INC'"
      ]
     },
     "execution_count": 127,
     "metadata": {},
     "output_type": "execute_result"
    }
   ],
   "source": [
    "compustat_id_df[compustat_id_df['ID'] == 775]['Compnay Name'].values[0]"
   ]
  },
  {
   "cell_type": "code",
   "execution_count": 119,
   "metadata": {},
   "outputs": [
    {
     "ename": "KeyError",
     "evalue": "False",
     "output_type": "error",
     "traceback": [
      "\u001b[0;31m---------------------------------------------------------------------------\u001b[0m",
      "\u001b[0;31mKeyError\u001b[0m                                  Traceback (most recent call last)",
      "File \u001b[0;32m/opt/anaconda3/lib/python3.9/site-packages/pandas/core/indexes/base.py:3621\u001b[0m, in \u001b[0;36mIndex.get_loc\u001b[0;34m(self, key, method, tolerance)\u001b[0m\n\u001b[1;32m   3620\u001b[0m \u001b[38;5;28;01mtry\u001b[39;00m:\n\u001b[0;32m-> 3621\u001b[0m     \u001b[38;5;28;01mreturn\u001b[39;00m \u001b[38;5;28;43mself\u001b[39;49m\u001b[38;5;241;43m.\u001b[39;49m\u001b[43m_engine\u001b[49m\u001b[38;5;241;43m.\u001b[39;49m\u001b[43mget_loc\u001b[49m\u001b[43m(\u001b[49m\u001b[43mcasted_key\u001b[49m\u001b[43m)\u001b[49m\n\u001b[1;32m   3622\u001b[0m \u001b[38;5;28;01mexcept\u001b[39;00m \u001b[38;5;167;01mKeyError\u001b[39;00m \u001b[38;5;28;01mas\u001b[39;00m err:\n",
      "File \u001b[0;32m/opt/anaconda3/lib/python3.9/site-packages/pandas/_libs/index.pyx:136\u001b[0m, in \u001b[0;36mpandas._libs.index.IndexEngine.get_loc\u001b[0;34m()\u001b[0m\n",
      "File \u001b[0;32m/opt/anaconda3/lib/python3.9/site-packages/pandas/_libs/index.pyx:163\u001b[0m, in \u001b[0;36mpandas._libs.index.IndexEngine.get_loc\u001b[0;34m()\u001b[0m\n",
      "File \u001b[0;32mpandas/_libs/hashtable_class_helper.pxi:5198\u001b[0m, in \u001b[0;36mpandas._libs.hashtable.PyObjectHashTable.get_item\u001b[0;34m()\u001b[0m\n",
      "File \u001b[0;32mpandas/_libs/hashtable_class_helper.pxi:5206\u001b[0m, in \u001b[0;36mpandas._libs.hashtable.PyObjectHashTable.get_item\u001b[0;34m()\u001b[0m\n",
      "\u001b[0;31mKeyError\u001b[0m: False",
      "\nThe above exception was the direct cause of the following exception:\n",
      "\u001b[0;31mKeyError\u001b[0m                                  Traceback (most recent call last)",
      "Input \u001b[0;32mIn [119]\u001b[0m, in \u001b[0;36m<cell line: 1>\u001b[0;34m()\u001b[0m\n\u001b[0;32m----> 1\u001b[0m compustat_id_df[\u001b[43mcompustat_id_df\u001b[49m\u001b[43m[\u001b[49m\u001b[43m[\u001b[49m\u001b[38;5;124;43m'\u001b[39;49m\u001b[38;5;124;43mID\u001b[39;49m\u001b[38;5;124;43m'\u001b[39;49m\u001b[43m]\u001b[49m\u001b[43m \u001b[49m\u001b[38;5;241;43m==\u001b[39;49m\u001b[43m \u001b[49m\u001b[38;5;241;43m775\u001b[39;49m\u001b[43m]\u001b[49m]\n",
      "File \u001b[0;32m/opt/anaconda3/lib/python3.9/site-packages/pandas/core/frame.py:3505\u001b[0m, in \u001b[0;36mDataFrame.__getitem__\u001b[0;34m(self, key)\u001b[0m\n\u001b[1;32m   3503\u001b[0m \u001b[38;5;28;01mif\u001b[39;00m \u001b[38;5;28mself\u001b[39m\u001b[38;5;241m.\u001b[39mcolumns\u001b[38;5;241m.\u001b[39mnlevels \u001b[38;5;241m>\u001b[39m \u001b[38;5;241m1\u001b[39m:\n\u001b[1;32m   3504\u001b[0m     \u001b[38;5;28;01mreturn\u001b[39;00m \u001b[38;5;28mself\u001b[39m\u001b[38;5;241m.\u001b[39m_getitem_multilevel(key)\n\u001b[0;32m-> 3505\u001b[0m indexer \u001b[38;5;241m=\u001b[39m \u001b[38;5;28;43mself\u001b[39;49m\u001b[38;5;241;43m.\u001b[39;49m\u001b[43mcolumns\u001b[49m\u001b[38;5;241;43m.\u001b[39;49m\u001b[43mget_loc\u001b[49m\u001b[43m(\u001b[49m\u001b[43mkey\u001b[49m\u001b[43m)\u001b[49m\n\u001b[1;32m   3506\u001b[0m \u001b[38;5;28;01mif\u001b[39;00m is_integer(indexer):\n\u001b[1;32m   3507\u001b[0m     indexer \u001b[38;5;241m=\u001b[39m [indexer]\n",
      "File \u001b[0;32m/opt/anaconda3/lib/python3.9/site-packages/pandas/core/indexes/base.py:3623\u001b[0m, in \u001b[0;36mIndex.get_loc\u001b[0;34m(self, key, method, tolerance)\u001b[0m\n\u001b[1;32m   3621\u001b[0m     \u001b[38;5;28;01mreturn\u001b[39;00m \u001b[38;5;28mself\u001b[39m\u001b[38;5;241m.\u001b[39m_engine\u001b[38;5;241m.\u001b[39mget_loc(casted_key)\n\u001b[1;32m   3622\u001b[0m \u001b[38;5;28;01mexcept\u001b[39;00m \u001b[38;5;167;01mKeyError\u001b[39;00m \u001b[38;5;28;01mas\u001b[39;00m err:\n\u001b[0;32m-> 3623\u001b[0m     \u001b[38;5;28;01mraise\u001b[39;00m \u001b[38;5;167;01mKeyError\u001b[39;00m(key) \u001b[38;5;28;01mfrom\u001b[39;00m \u001b[38;5;21;01merr\u001b[39;00m\n\u001b[1;32m   3624\u001b[0m \u001b[38;5;28;01mexcept\u001b[39;00m \u001b[38;5;167;01mTypeError\u001b[39;00m:\n\u001b[1;32m   3625\u001b[0m     \u001b[38;5;66;03m# If we have a listlike key, _check_indexing_error will raise\u001b[39;00m\n\u001b[1;32m   3626\u001b[0m     \u001b[38;5;66;03m#  InvalidIndexError. Otherwise we fall through and re-raise\u001b[39;00m\n\u001b[1;32m   3627\u001b[0m     \u001b[38;5;66;03m#  the TypeError.\u001b[39;00m\n\u001b[1;32m   3628\u001b[0m     \u001b[38;5;28mself\u001b[39m\u001b[38;5;241m.\u001b[39m_check_indexing_error(key)\n",
      "\u001b[0;31mKeyError\u001b[0m: False"
     ]
    }
   ],
   "source": [
    "compustat_id_df[compustat_id_df[['ID'] == 775]]"
   ]
  },
  {
   "cell_type": "code",
   "execution_count": 125,
   "metadata": {},
   "outputs": [],
   "source": [
    "results_df['Compustat Company Name'] = results_df.apply(lambda row : compustat_id_df[compustat_id_df['ID'] == row['ID']]['Compnay Name'].values[0] if row['ID'] is not None else False, axis = 1)"
   ]
  },
  {
   "cell_type": "code",
   "execution_count": 129,
   "metadata": {},
   "outputs": [
    {
     "data": {
      "text/html": [
       "<div>\n",
       "<style scoped>\n",
       "    .dataframe tbody tr th:only-of-type {\n",
       "        vertical-align: middle;\n",
       "    }\n",
       "\n",
       "    .dataframe tbody tr th {\n",
       "        vertical-align: top;\n",
       "    }\n",
       "\n",
       "    .dataframe thead th {\n",
       "        text-align: right;\n",
       "    }\n",
       "</style>\n",
       "<table border=\"1\" class=\"dataframe\">\n",
       "  <thead>\n",
       "    <tr style=\"text-align: right;\">\n",
       "      <th></th>\n",
       "      <th>Company Name</th>\n",
       "      <th>ID</th>\n",
       "      <th>Compustat Company Name</th>\n",
       "    </tr>\n",
       "  </thead>\n",
       "  <tbody>\n",
       "    <tr>\n",
       "      <th>0</th>\n",
       "      <td>CARDINAL HEALTH</td>\n",
       "      <td>775</td>\n",
       "      <td>CARDINAL HEALTH INC</td>\n",
       "    </tr>\n",
       "    <tr>\n",
       "      <th>1</th>\n",
       "      <td>PRICESMART</td>\n",
       "      <td>3778</td>\n",
       "      <td>PRICESMART INC</td>\n",
       "    </tr>\n",
       "    <tr>\n",
       "      <th>2</th>\n",
       "      <td>AKZO NOBEL</td>\n",
       "      <td>129</td>\n",
       "      <td>AKZO NOBEL NV</td>\n",
       "    </tr>\n",
       "    <tr>\n",
       "      <th>3</th>\n",
       "      <td>3M</td>\n",
       "      <td>7</td>\n",
       "      <td>3M CO</td>\n",
       "    </tr>\n",
       "    <tr>\n",
       "      <th>4</th>\n",
       "      <td>WOLVERINE WORLD WIDE</td>\n",
       "      <td>5224</td>\n",
       "      <td>WOLVERINE WORLD WIDE</td>\n",
       "    </tr>\n",
       "    <tr>\n",
       "      <th>5</th>\n",
       "      <td>CONAGRA</td>\n",
       "      <td>1071</td>\n",
       "      <td>CONAGRA BRANDS INC</td>\n",
       "    </tr>\n",
       "    <tr>\n",
       "      <th>6</th>\n",
       "      <td>EASTMAN KODAK</td>\n",
       "      <td>1388</td>\n",
       "      <td>EASTMAN KODAK CO</td>\n",
       "    </tr>\n",
       "    <tr>\n",
       "      <th>7</th>\n",
       "      <td>CLEARWATER PAPER</td>\n",
       "      <td>978</td>\n",
       "      <td>CLEARWATER PAPER CORP</td>\n",
       "    </tr>\n",
       "    <tr>\n",
       "      <th>8</th>\n",
       "      <td>CATERPILLAR</td>\n",
       "      <td>802</td>\n",
       "      <td>CATERPILLAR FINANCIAL SVCS</td>\n",
       "    </tr>\n",
       "    <tr>\n",
       "      <th>9</th>\n",
       "      <td>JOHNSON CONTROLS</td>\n",
       "      <td>2722</td>\n",
       "      <td>JOHNSON CONTROLS INTL PLC</td>\n",
       "    </tr>\n",
       "    <tr>\n",
       "      <th>10</th>\n",
       "      <td>ACME UNITED</td>\n",
       "      <td>51</td>\n",
       "      <td>ACME UNITED CORP</td>\n",
       "    </tr>\n",
       "    <tr>\n",
       "      <th>11</th>\n",
       "      <td>SEALED AIR</td>\n",
       "      <td>4196</td>\n",
       "      <td>SEALED AIR CORP</td>\n",
       "    </tr>\n",
       "    <tr>\n",
       "      <th>12</th>\n",
       "      <td>AGCO</td>\n",
       "      <td>108</td>\n",
       "      <td>AGCO CORP</td>\n",
       "    </tr>\n",
       "    <tr>\n",
       "      <th>13</th>\n",
       "      <td>GILDAN ACTIVEWEAR</td>\n",
       "      <td>1889</td>\n",
       "      <td>GILDAN ACTIVEWEAR INC</td>\n",
       "    </tr>\n",
       "    <tr>\n",
       "      <th>14</th>\n",
       "      <td>WEYERHAEUSER</td>\n",
       "      <td>5156</td>\n",
       "      <td>WEYERHAEUSER CO</td>\n",
       "    </tr>\n",
       "    <tr>\n",
       "      <th>15</th>\n",
       "      <td>TOYS R US</td>\n",
       "      <td>4711</td>\n",
       "      <td>TOYS R US INC</td>\n",
       "    </tr>\n",
       "    <tr>\n",
       "      <th>16</th>\n",
       "      <td>COMMERCIAL METALS</td>\n",
       "      <td>1040</td>\n",
       "      <td>COMMERCIAL METALS</td>\n",
       "    </tr>\n",
       "    <tr>\n",
       "      <th>17</th>\n",
       "      <td>CARRIER</td>\n",
       "      <td>4471</td>\n",
       "      <td>STAR BULK CARRIERS CORP</td>\n",
       "    </tr>\n",
       "    <tr>\n",
       "      <th>18</th>\n",
       "      <td>CUMMINS</td>\n",
       "      <td>1170</td>\n",
       "      <td>CUMMINS INC</td>\n",
       "    </tr>\n",
       "    <tr>\n",
       "      <th>19</th>\n",
       "      <td>APC</td>\n",
       "      <td>3215</td>\n",
       "      <td>NAPCO SECURITY TECH INC</td>\n",
       "    </tr>\n",
       "    <tr>\n",
       "      <th>20</th>\n",
       "      <td>L AND M</td>\n",
       "      <td>5067</td>\n",
       "      <td>VOYA INFRASTR INDL AND MATLS</td>\n",
       "    </tr>\n",
       "    <tr>\n",
       "      <th>21</th>\n",
       "      <td>UNDER ARMOUR</td>\n",
       "      <td>4804</td>\n",
       "      <td>UNDER ARMOUR INC</td>\n",
       "    </tr>\n",
       "    <tr>\n",
       "      <th>22</th>\n",
       "      <td>TOYOTA MOTOR</td>\n",
       "      <td>4709</td>\n",
       "      <td>TOYOTA MOTOR CORP</td>\n",
       "    </tr>\n",
       "    <tr>\n",
       "      <th>23</th>\n",
       "      <td>GENERAL MOTORS</td>\n",
       "      <td>1862</td>\n",
       "      <td>GENERAL MOTORS CO</td>\n",
       "    </tr>\n",
       "    <tr>\n",
       "      <th>24</th>\n",
       "      <td>PPG INDUSTRIES</td>\n",
       "      <td>3762</td>\n",
       "      <td>PPG INDUSTRIES INC</td>\n",
       "    </tr>\n",
       "    <tr>\n",
       "      <th>25</th>\n",
       "      <td>RITCHIE BROS AUCTIONEERS</td>\n",
       "      <td>4066</td>\n",
       "      <td>RITCHIE BROS AUCTIONEERS INC</td>\n",
       "    </tr>\n",
       "    <tr>\n",
       "      <th>26</th>\n",
       "      <td>HUNTSMAN INTERNATIONAL</td>\n",
       "      <td>2183</td>\n",
       "      <td>HUNTSMAN INTERNATIONAL LLC</td>\n",
       "    </tr>\n",
       "    <tr>\n",
       "      <th>27</th>\n",
       "      <td>FMC</td>\n",
       "      <td>1765</td>\n",
       "      <td>FMC CORP</td>\n",
       "    </tr>\n",
       "    <tr>\n",
       "      <th>28</th>\n",
       "      <td>OXFORD INDUSTRIES</td>\n",
       "      <td>3559</td>\n",
       "      <td>OXFORD INDUSTRIES INC</td>\n",
       "    </tr>\n",
       "    <tr>\n",
       "      <th>29</th>\n",
       "      <td>TRUE VALUE</td>\n",
       "      <td>4755</td>\n",
       "      <td>TRUE VALUE CO</td>\n",
       "    </tr>\n",
       "    <tr>\n",
       "      <th>30</th>\n",
       "      <td>GENERAL DYNAMICS</td>\n",
       "      <td>1858</td>\n",
       "      <td>GENERAL DYNAMICS CORP</td>\n",
       "    </tr>\n",
       "    <tr>\n",
       "      <th>31</th>\n",
       "      <td>RAYONIER</td>\n",
       "      <td>3984</td>\n",
       "      <td>RAYONIER INC</td>\n",
       "    </tr>\n",
       "    <tr>\n",
       "      <th>32</th>\n",
       "      <td>BOSTON SCIENTIFIC</td>\n",
       "      <td>662</td>\n",
       "      <td>BOSTON SCIENTIFIC CORP</td>\n",
       "    </tr>\n",
       "    <tr>\n",
       "      <th>33</th>\n",
       "      <td>NOVUS</td>\n",
       "      <td>4551</td>\n",
       "      <td>SYNOVUS FINANCIAL CORP</td>\n",
       "    </tr>\n",
       "    <tr>\n",
       "      <th>34</th>\n",
       "      <td>WHIRLPOOL</td>\n",
       "      <td>5159</td>\n",
       "      <td>WHIRLPOOL CORP</td>\n",
       "    </tr>\n",
       "    <tr>\n",
       "      <th>35</th>\n",
       "      <td>TYSON FOODS</td>\n",
       "      <td>4778</td>\n",
       "      <td>TYSON FOODS INC  -CL A</td>\n",
       "    </tr>\n",
       "    <tr>\n",
       "      <th>36</th>\n",
       "      <td>COSTCO WHOLESALE</td>\n",
       "      <td>1115</td>\n",
       "      <td>COSTCO WHOLESALE CORP</td>\n",
       "    </tr>\n",
       "    <tr>\n",
       "      <th>37</th>\n",
       "      <td>HESS</td>\n",
       "      <td>2110</td>\n",
       "      <td>HESS CORP</td>\n",
       "    </tr>\n",
       "    <tr>\n",
       "      <th>38</th>\n",
       "      <td>ARMSTRONG WORLD INDUSTRIES</td>\n",
       "      <td>346</td>\n",
       "      <td>ARMSTRONG WORLD INDUSTRIES</td>\n",
       "    </tr>\n",
       "    <tr>\n",
       "      <th>39</th>\n",
       "      <td>BALL</td>\n",
       "      <td>454</td>\n",
       "      <td>BALL CORP</td>\n",
       "    </tr>\n",
       "    <tr>\n",
       "      <th>40</th>\n",
       "      <td>CONOCOPHILLIPS</td>\n",
       "      <td>1079</td>\n",
       "      <td>CONOCOPHILLIPS</td>\n",
       "    </tr>\n",
       "    <tr>\n",
       "      <th>41</th>\n",
       "      <td>CELANESE</td>\n",
       "      <td>826</td>\n",
       "      <td>CELANESE CORP</td>\n",
       "    </tr>\n",
       "    <tr>\n",
       "      <th>42</th>\n",
       "      <td>MAD CATZ</td>\n",
       "      <td>2962</td>\n",
       "      <td>MAD CATZ INTERACTIVE INC</td>\n",
       "    </tr>\n",
       "    <tr>\n",
       "      <th>43</th>\n",
       "      <td>BROWN FORMAN</td>\n",
       "      <td>695</td>\n",
       "      <td>BROWN FORMAN CORP</td>\n",
       "    </tr>\n",
       "    <tr>\n",
       "      <th>44</th>\n",
       "      <td>CORNING</td>\n",
       "      <td>1109</td>\n",
       "      <td>CORNING INC</td>\n",
       "    </tr>\n",
       "  </tbody>\n",
       "</table>\n",
       "</div>"
      ],
      "text/plain": [
       "                  Company Name    ID        Compustat Company Name\n",
       "0   CARDINAL HEALTH             775   CARDINAL HEALTH INC         \n",
       "1   PRICESMART                  3778  PRICESMART INC              \n",
       "2   AKZO NOBEL                  129   AKZO NOBEL NV               \n",
       "3   3M                          7     3M CO                       \n",
       "4   WOLVERINE WORLD WIDE        5224  WOLVERINE WORLD WIDE        \n",
       "5   CONAGRA                     1071  CONAGRA BRANDS INC          \n",
       "6   EASTMAN KODAK               1388  EASTMAN KODAK CO            \n",
       "7   CLEARWATER PAPER            978   CLEARWATER PAPER CORP       \n",
       "8   CATERPILLAR                 802   CATERPILLAR FINANCIAL SVCS  \n",
       "9   JOHNSON CONTROLS            2722  JOHNSON CONTROLS INTL PLC   \n",
       "10  ACME UNITED                 51    ACME UNITED CORP            \n",
       "11  SEALED AIR                  4196  SEALED AIR CORP             \n",
       "12  AGCO                        108   AGCO CORP                   \n",
       "13  GILDAN ACTIVEWEAR           1889  GILDAN ACTIVEWEAR INC       \n",
       "14  WEYERHAEUSER                5156  WEYERHAEUSER CO             \n",
       "15  TOYS R US                   4711  TOYS R US INC               \n",
       "16  COMMERCIAL METALS           1040  COMMERCIAL METALS           \n",
       "17  CARRIER                     4471  STAR BULK CARRIERS CORP     \n",
       "18  CUMMINS                     1170  CUMMINS INC                 \n",
       "19  APC                         3215  NAPCO SECURITY TECH INC     \n",
       "20  L AND M                     5067  VOYA INFRASTR INDL AND MATLS\n",
       "21  UNDER ARMOUR                4804  UNDER ARMOUR INC            \n",
       "22  TOYOTA MOTOR                4709  TOYOTA MOTOR CORP           \n",
       "23  GENERAL MOTORS              1862  GENERAL MOTORS CO           \n",
       "24  PPG INDUSTRIES              3762  PPG INDUSTRIES INC          \n",
       "25  RITCHIE BROS AUCTIONEERS    4066  RITCHIE BROS AUCTIONEERS INC\n",
       "26  HUNTSMAN INTERNATIONAL      2183  HUNTSMAN INTERNATIONAL LLC  \n",
       "27  FMC                         1765  FMC CORP                    \n",
       "28  OXFORD INDUSTRIES           3559  OXFORD INDUSTRIES INC       \n",
       "29  TRUE VALUE                  4755  TRUE VALUE CO               \n",
       "30  GENERAL DYNAMICS            1858  GENERAL DYNAMICS CORP       \n",
       "31  RAYONIER                    3984  RAYONIER INC                \n",
       "32  BOSTON SCIENTIFIC           662   BOSTON SCIENTIFIC CORP      \n",
       "33  NOVUS                       4551  SYNOVUS FINANCIAL CORP      \n",
       "34  WHIRLPOOL                   5159  WHIRLPOOL CORP              \n",
       "35  TYSON FOODS                 4778  TYSON FOODS INC  -CL A      \n",
       "36  COSTCO WHOLESALE            1115  COSTCO WHOLESALE CORP       \n",
       "37  HESS                        2110  HESS CORP                   \n",
       "38  ARMSTRONG WORLD INDUSTRIES  346   ARMSTRONG WORLD INDUSTRIES  \n",
       "39  BALL                        454   BALL CORP                   \n",
       "40  CONOCOPHILLIPS              1079  CONOCOPHILLIPS              \n",
       "41  CELANESE                    826   CELANESE CORP               \n",
       "42  MAD CATZ                    2962  MAD CATZ INTERACTIVE INC    \n",
       "43  BROWN FORMAN                695   BROWN FORMAN CORP           \n",
       "44  CORNING                     1109  CORNING INC                 "
      ]
     },
     "execution_count": 129,
     "metadata": {},
     "output_type": "execute_result"
    }
   ],
   "source": [
    "results_df.head(100)"
   ]
  },
  {
   "cell_type": "code",
   "execution_count": 130,
   "metadata": {},
   "outputs": [],
   "source": [
    "results_df.to_csv('results_from_code_with_names.csv')"
   ]
  }
 ],
 "metadata": {
  "kernelspec": {
   "display_name": "Python 3 (ipykernel)",
   "language": "python",
   "name": "python3"
  },
  "language_info": {
   "codemirror_mode": {
    "name": "ipython",
    "version": 3
   },
   "file_extension": ".py",
   "mimetype": "text/x-python",
   "name": "python",
   "nbconvert_exporter": "python",
   "pygments_lexer": "ipython3",
   "version": "3.9.12"
  }
 },
 "nbformat": 4,
 "nbformat_minor": 4
}
